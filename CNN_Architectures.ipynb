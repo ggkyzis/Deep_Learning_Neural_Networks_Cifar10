{
  "cells": [
    {
      "cell_type": "markdown",
      "metadata": {
        "id": "VkjYh5Vf_v1A"
      },
      "source": [
        "# Purpose of Collab\n",
        "This collab is used to search for the best hyperparameters in order to train and get the best possible model. The Convolutional Neural Networks architecture will be the base of this collab as we are dealing with the Cifar-10 dataset which consists of colour images.\n",
        "\n",
        "In the search of the best hyperparameters, different learning rates, number of layers, parameters per layer, activation functions etc are tested. At the same time, different Keras Implementations for hyperparameter tuning are exploited such as Grid Search, Random Search and Bayesian Optimization."
      ]
    },
    {
      "cell_type": "code",
      "execution_count": null,
      "metadata": {
        "colab": {
          "base_uri": "https://localhost:8080/"
        },
        "id": "hYg8ydU9OYe9",
        "outputId": "f30550b2-893a-4258-dff5-5ff17e46bd5e"
      },
      "outputs": [
        {
          "output_type": "stream",
          "name": "stdout",
          "text": [
            "Collecting keras-tuner\n",
            "  Downloading keras_tuner-1.4.6-py3-none-any.whl (128 kB)\n",
            "\u001b[?25l     \u001b[90m━━━━━━━━━━━━━━━━━━━━━━━━━━━━━━━━━━━━━━━━\u001b[0m \u001b[32m0.0/128.9 kB\u001b[0m \u001b[31m?\u001b[0m eta \u001b[36m-:--:--\u001b[0m\r\u001b[2K     \u001b[91m━━━━━━━━━━━━━━━━━━━━━━━━━\u001b[0m\u001b[90m╺\u001b[0m\u001b[90m━━━━━━━━━━━━━━\u001b[0m \u001b[32m81.9/128.9 kB\u001b[0m \u001b[31m2.6 MB/s\u001b[0m eta \u001b[36m0:00:01\u001b[0m\r\u001b[2K     \u001b[90m━━━━━━━━━━━━━━━━━━━━━━━━━━━━━━━━━━━━━━━━\u001b[0m \u001b[32m128.9/128.9 kB\u001b[0m \u001b[31m2.6 MB/s\u001b[0m eta \u001b[36m0:00:00\u001b[0m\n",
            "\u001b[?25hRequirement already satisfied: keras in /usr/local/lib/python3.10/dist-packages (from keras-tuner) (2.15.0)\n",
            "Requirement already satisfied: packaging in /usr/local/lib/python3.10/dist-packages (from keras-tuner) (23.2)\n",
            "Requirement already satisfied: requests in /usr/local/lib/python3.10/dist-packages (from keras-tuner) (2.31.0)\n",
            "Collecting kt-legacy (from keras-tuner)\n",
            "  Downloading kt_legacy-1.0.5-py3-none-any.whl (9.6 kB)\n",
            "Requirement already satisfied: charset-normalizer<4,>=2 in /usr/local/lib/python3.10/dist-packages (from requests->keras-tuner) (3.3.2)\n",
            "Requirement already satisfied: idna<4,>=2.5 in /usr/local/lib/python3.10/dist-packages (from requests->keras-tuner) (3.6)\n",
            "Requirement already satisfied: urllib3<3,>=1.21.1 in /usr/local/lib/python3.10/dist-packages (from requests->keras-tuner) (2.0.7)\n",
            "Requirement already satisfied: certifi>=2017.4.17 in /usr/local/lib/python3.10/dist-packages (from requests->keras-tuner) (2023.11.17)\n",
            "Installing collected packages: kt-legacy, keras-tuner\n",
            "Successfully installed keras-tuner-1.4.6 kt-legacy-1.0.5\n",
            "Collecting visualkeras\n",
            "  Downloading visualkeras-0.0.2-py3-none-any.whl (12 kB)\n",
            "Requirement already satisfied: pillow>=6.2.0 in /usr/local/lib/python3.10/dist-packages (from visualkeras) (9.4.0)\n",
            "Requirement already satisfied: numpy>=1.18.1 in /usr/local/lib/python3.10/dist-packages (from visualkeras) (1.23.5)\n",
            "Collecting aggdraw>=1.3.11 (from visualkeras)\n",
            "  Downloading aggdraw-1.3.18-cp310-cp310-manylinux_2_17_x86_64.manylinux2014_x86_64.whl (993 kB)\n",
            "\u001b[2K     \u001b[90m━━━━━━━━━━━━━━━━━━━━━━━━━━━━━━━━━━━━━━━━\u001b[0m \u001b[32m993.7/993.7 kB\u001b[0m \u001b[31m9.5 MB/s\u001b[0m eta \u001b[36m0:00:00\u001b[0m\n",
            "\u001b[?25hInstalling collected packages: aggdraw, visualkeras\n",
            "Successfully installed aggdraw-1.3.18 visualkeras-0.0.2\n"
          ]
        }
      ],
      "source": [
        "import numpy as np\n",
        "from sklearn.metrics import *\n",
        "from matplotlib import pyplot as plt\n",
        "import math\n",
        "from keras.datasets import cifar10\n",
        "import keras\n",
        "from sklearn.metrics import accuracy_score, precision_score, recall_score, f1_score, confusion_matrix, classification_report\n",
        "!pip install keras-tuner --upgrade\n",
        "from keras.models import Sequential, Model\n",
        "from keras.layers import Dense, Dropout, Flatten, Conv2D, MaxPooling2D\n",
        "from keras.utils import to_categorical\n",
        "from sklearn.metrics import classification_report, confusion_matrix\n",
        "from keras_tuner.tuners import RandomSearch,BayesianOptimization,GridSearch\n",
        "from keras_tuner.engine.hyperparameters import HyperParameters\n",
        "from keras.optimizers import Adam,SGD\n",
        "!pip install visualkeras\n",
        "import visualkeras\n",
        "from sklearn.model_selection import train_test_split\n",
        "import time"
      ]
    },
    {
      "cell_type": "code",
      "execution_count": null,
      "metadata": {
        "id": "AXOuJ3LiOgvh",
        "colab": {
          "base_uri": "https://localhost:8080/"
        },
        "outputId": "38bd9bf5-d8f4-4a5c-a24e-ef82f8be5261"
      },
      "outputs": [
        {
          "output_type": "stream",
          "name": "stdout",
          "text": [
            "Downloading data from https://www.cs.toronto.edu/~kriz/cifar-10-python.tar.gz\n",
            "170498071/170498071 [==============================] - 6s 0us/step\n"
          ]
        }
      ],
      "source": [
        "# Downloading the dataset (CIFAR-10) using keras datasets\n",
        "def load_dataset():\n",
        " # load dataset\n",
        " (X_train,y_train),(X_test,y_test) = cifar10.load_data()\n",
        " return X_train,y_train,X_test,y_test\n",
        "\n",
        "X_train,y_train,X_test,y_test = load_dataset()"
      ]
    },
    {
      "cell_type": "code",
      "execution_count": null,
      "metadata": {
        "id": "1xv5p6LwOiHo"
      },
      "outputs": [],
      "source": [
        "# We know that the pixels in each image is between no colour and full color and thus [0,255]\n",
        "# We also know that normalization can help neural networks\n",
        "def normalization_pixels(train, test):\n",
        " # convert from integers to floats\n",
        " train_norm = train.astype('float32')\n",
        " test_norm = test.astype('float32')\n",
        " # normalize to range 0-1\n",
        " train_norm = train_norm / 255.0\n",
        " test_norm = test_norm / 255.0\n",
        " # return normalized images\n",
        " return train_norm, test_norm\n",
        "\n",
        "X_train, X_test = normalization_pixels(X_train,X_test)"
      ]
    },
    {
      "cell_type": "code",
      "execution_count": null,
      "metadata": {
        "colab": {
          "base_uri": "https://localhost:8080/"
        },
        "id": "o_DhMiHCPwbM",
        "outputId": "3815d0e7-c3f7-4fb7-85ea-9f6253d47207"
      },
      "outputs": [
        {
          "output_type": "stream",
          "name": "stdout",
          "text": [
            "The shape of X_train is : (50000, 32, 32, 3)\n",
            "The shape of y_train is : (50000, 1)\n",
            "The shape of X_test is : (10000, 32, 32, 3)\n",
            "The shape of y_test is : (10000, 1)\n",
            "The number of unique classes is: 10\n",
            "Class Names are: ['airplane', 'automobile', 'bird', 'cat', 'deer', 'dog', 'frog', 'horse', 'ship', 'truck']\n"
          ]
        }
      ],
      "source": [
        "# Initial Exploration of the dataset and its dimensions\n",
        "X_train,y_train,X_test,y_test =  load_dataset()\n",
        "print(\"The shape of X_train is :\",X_train.shape)\n",
        "print(\"The shape of y_train is :\",y_train.shape)\n",
        "\n",
        "print(\"The shape of X_test is :\",X_test.shape)\n",
        "print(\"The shape of y_test is :\",y_test.shape)\n",
        "\n",
        "print(\"The number of unique classes is:\",len(np.unique(y_train)))\n",
        "\n",
        "labels =[\"airplane\",\"automobile\",\"bird\",\"cat\",\"deer\",\"dog\",\"frog\",\"horse\",\"ship\",\"truck\"]\n",
        "print(\"Class Names are:\",labels)"
      ]
    },
    {
      "cell_type": "code",
      "execution_count": null,
      "metadata": {
        "id": "UVGp-0AnOmlG"
      },
      "outputs": [],
      "source": [
        "# Function to calculate and print different classification metrics for comparison of our models\n",
        "def evaluate_classification_metrics(y_true, y_pred,verbose=True):\n",
        "\n",
        "\n",
        "    y_true = np.argmax(y_true, axis=1)\n",
        "    y_pred = np.argmax(y_pred, axis=1)\n",
        "\n",
        "    # Calculate accuracy\n",
        "    accuracy = accuracy_score(y_true, y_pred)\n",
        "\n",
        "    # Calculate precision, recall, and F1-score for all unique labels\n",
        "    precision = precision_score(y_true, y_pred,zero_division=0, average='weighted')\n",
        "    recall = recall_score(y_true, y_pred,zero_division=0, average='weighted')\n",
        "    f1 = f1_score(y_true, y_pred,zero_division=0,average='weighted')\n",
        "\n",
        "    # Calculate confusion matrix\n",
        "    conf_matrix = confusion_matrix(y_true, y_pred)\n",
        "\n",
        "    # Generate a classification report\n",
        "    class_report = classification_report(y_true, y_pred, zero_division=0)\n",
        "    if verbose:\n",
        "      print(f'\\tAccuracy: {accuracy}')\n",
        "      print(f'\\tPrecision Weighted: {precision}')\n",
        "      print(f'\\tRecall Weighted: {recall}')\n",
        "      print(f'\\tF1-Score Weighted: {f1}')\n",
        "\n",
        "    return {\n",
        "        \"Accuracy\": accuracy,\n",
        "        \"Precision\": precision,\n",
        "        \"Recall\": recall,\n",
        "        \"F1 Score\": f1,\n",
        "        \"Confusion Matrix\": conf_matrix,\n",
        "        \"Classification Report\": class_report\n",
        "    }"
      ]
    },
    {
      "cell_type": "code",
      "execution_count": null,
      "metadata": {
        "colab": {
          "base_uri": "https://localhost:8080/"
        },
        "id": "j5xnE9UjOpTU",
        "outputId": "ba1a473a-ffb3-4193-816c-b22ae93d8ace"
      },
      "outputs": [
        {
          "output_type": "stream",
          "name": "stdout",
          "text": [
            "Shape of one-hot-encoded y_train:  (50000, 10)\n"
          ]
        }
      ],
      "source": [
        "# Preprocess target labels for our neural networks by performing one hot encoding\n",
        "def preprocess_labels(y_train,y_test,number_of_classes):\n",
        "  # one hot encode target values\n",
        "  y_train = keras.utils.to_categorical(y_train,num_classes=number_of_classes)\n",
        "  y_test = keras.utils.to_categorical(y_test,num_classes=number_of_classes)\n",
        "  return y_train,y_test\n",
        "\n",
        "y_train,y_test = preprocess_labels(y_train,y_test,len(labels))\n",
        "print(\"Shape of one-hot-encoded y_train: \",y_train.shape)"
      ]
    },
    {
      "cell_type": "markdown",
      "metadata": {
        "id": "h0uVzzMJ6E-t"
      },
      "source": [
        "Before start to searching for the optimal model, a validation set is extracted in order for the test set not to be used during training."
      ]
    },
    {
      "cell_type": "code",
      "execution_count": null,
      "metadata": {
        "id": "dUmbZseutthz"
      },
      "outputs": [],
      "source": [
        "X_train, X_valid, y_train, y_valid = train_test_split(X_train, y_train, test_size=0.2)"
      ]
    },
    {
      "cell_type": "code",
      "execution_count": null,
      "metadata": {
        "id": "1RT7TuSuW2HW"
      },
      "outputs": [],
      "source": [
        "def model_plots(history,model_name):\n",
        "\n",
        "  # Set a larger width for the plots\n",
        "  figsize = (15, 6)\n",
        "\n",
        "  # Create the figure with the specified figsize\n",
        "  plt.figure(figsize=figsize)\n",
        "\n",
        "  # Plotting loss\n",
        "  plt.subplot(1, 2, 1)\n",
        "  plt.plot(history.history['loss'], label='Training Loss')\n",
        "  plt.plot(history.history['val_loss'], label='Validation Loss')\n",
        "  plt.title(model_name + '  Learning Curve')\n",
        "  plt.xlabel('Epochs')\n",
        "  plt.ylabel('Loss')\n",
        "  plt.legend()\n",
        "\n",
        "  # Plotting accuracy\n",
        "  plt.subplot(1, 2, 2)\n",
        "  plt.plot(history.history['accuracy'], label='Training Accuracy')\n",
        "  plt.plot(history.history['val_accuracy'], label='Validation Accuracy')\n",
        "  plt.title(model_name + ' Accuracy Learning Curve')\n",
        "  plt.xlabel('Epochs')\n",
        "  plt.ylabel('Accuracy')\n",
        "  plt.legend()\n",
        "\n",
        "  plt.tight_layout()\n",
        "  plt.show()"
      ]
    },
    {
      "cell_type": "code",
      "execution_count": null,
      "metadata": {
        "id": "CNSUZSRzIP2R"
      },
      "outputs": [],
      "source": [
        "# Function to visualize intermediate outputs of the Convolutional Layers\n",
        "# Each filter in a layer is responsible for detecting specific patterns and thus\n",
        "# extracting specific features\n",
        "def visualize_intermediate_outputs(model, layer_names, input_data):\n",
        "    intermediate_layer_models = [Model(inputs=model.input, outputs=model.get_layer(layer_name).output) for layer_name in layer_names]\n",
        "\n",
        "    intermediate_outputs = [intermediate_model.predict(input_data) for intermediate_model in intermediate_layer_models]\n",
        "\n",
        "    # Original image\n",
        "    plt.figure(figsize=(15, 5))\n",
        "    plt.subplot(1, len(layer_names) + 1, 1)\n",
        "    plt.imshow(input_data[0])\n",
        "    plt.axis('off')\n",
        "    plt.title('Original Image')\n",
        "    # Display up to 8 feature maps (if more are displayed, the figures then will lack quality)\n",
        "    for i, layer_name in enumerate(layer_names):\n",
        "        plt.figure(figsize=(15, 5))\n",
        "        for j in range(min(8, intermediate_outputs[i].shape[-1])):\n",
        "            plt.subplot(1, 8, j + 1)\n",
        "            plt.imshow(intermediate_outputs[i][0, :, :, j], cmap='viridis')\n",
        "            plt.axis('off')\n",
        "            plt.title(f'{layer_name}_filter_{j+1}')\n",
        "        plt.show()"
      ]
    },
    {
      "cell_type": "markdown",
      "metadata": {
        "id": "1s_R6EnMMYBn"
      },
      "source": [
        "In this section, some hyper-parameter tuning methods are followed in order to built a Neural Network with Convolutional and Dense layers (and other layers between of course) to maximize the predictive power on Cifar-10.\n",
        "\n",
        "A fundamental layer that is used in this new exploration of Neural Networks is Conv2D layer.  The Conv2D layer is exploited in order to perform spatial convolution over the dataset images (in contrast with the Conv1D which would be used if time-series data were the base of the problem). The common hyperparameters of the Conv2D layers are the number of filters/kernels and the dimension of the kernels.\n",
        "\n",
        "The number of filters represents the number of filters applied in the convolutional layer. Each filter is responsible for detecting specific features or patterns in the input data. The number of filters determines how many different features the layer can learn. In the context of an image, each filter can be thought of as looking for a specific pattern or feature, such as edges, textures, or more complex structures.\n",
        "\n",
        "Common choices include 32 or 64 filters, and kernel sizes like (3, 3) or (5, 5) according to various articles.\n",
        "\n",
        "Other layers will be exploited as well such as MaxPooling2D layers that help use downsample the spatial features (reduce dimensions) and of course the Flatten layer used to flatten the output before performing the predictions. The Flatten layer has similar functionalities to the numpy function that has the same name and has been used in the other collabs to flatten the input images.\n"
      ]
    },
    {
      "cell_type": "code",
      "execution_count": null,
      "metadata": {
        "colab": {
          "base_uri": "https://localhost:8080/",
          "height": 767
        },
        "id": "Ug91YcrBYA_7",
        "outputId": "3a2d0e52-0d31-4e76-b370-6392393279bd"
      },
      "outputs": [
        {
          "output_type": "stream",
          "name": "stdout",
          "text": [
            "Epoch 1/5\n",
            "1250/1250 [==============================] - 21s 11ms/step - loss: 3.5148 - accuracy: 0.1097 - val_loss: 2.2824 - val_accuracy: 0.1255\n",
            "Epoch 2/5\n",
            "1250/1250 [==============================] - 9s 7ms/step - loss: 2.2348 - accuracy: 0.1676 - val_loss: 2.2019 - val_accuracy: 0.2002\n",
            "Epoch 3/5\n",
            "1250/1250 [==============================] - 7s 6ms/step - loss: 2.1824 - accuracy: 0.2030 - val_loss: 2.1964 - val_accuracy: 0.2014\n",
            "Epoch 4/5\n",
            "1250/1250 [==============================] - 5s 4ms/step - loss: 2.1050 - accuracy: 0.2487 - val_loss: 2.2123 - val_accuracy: 0.1813\n",
            "Epoch 5/5\n",
            "1250/1250 [==============================] - 4s 3ms/step - loss: 2.0557 - accuracy: 0.2690 - val_loss: 2.2491 - val_accuracy: 0.2143\n",
            "Model: \"sequential\"\n",
            "_________________________________________________________________\n",
            " Layer (type)                Output Shape              Param #   \n",
            "=================================================================\n",
            " conv2d (Conv2D)             (None, 30, 30, 32)        896       \n",
            "                                                                 \n",
            " max_pooling2d (MaxPooling2  (None, 15, 15, 32)        0         \n",
            " D)                                                              \n",
            "                                                                 \n",
            " flatten (Flatten)           (None, 7200)              0         \n",
            "                                                                 \n",
            " dense (Dense)               (None, 10)                72010     \n",
            "                                                                 \n",
            "=================================================================\n",
            "Total params: 72906 (284.79 KB)\n",
            "Trainable params: 72906 (284.79 KB)\n",
            "Non-trainable params: 0 (0.00 Byte)\n",
            "_________________________________________________________________\n",
            "None\n",
            "Training Time: 86.51836943626404\n"
          ]
        },
        {
          "output_type": "execute_result",
          "data": {
            "text/plain": [
              "<PIL.Image.Image image mode=RGBA size=534x196>"
            ],
            "image/png": "[encoded data removed]"
          },
          "metadata": {},
          "execution_count": 10
        }
      ],
      "source": [
        "import time\n",
        "# Create a Base Model - the simplier model using a Convolution layer\n",
        "opt = SGD(learning_rate=0.001) # Stochastic Gradient Descent optimizer\n",
        "\n",
        "model = Sequential([Conv2D(32, (3, 3), activation='relu', input_shape=(32, 32, 3)),\n",
        "                    MaxPooling2D((2, 2)),\n",
        "                    Flatten(),\n",
        "                    Dense(10, activation='softmax')])\n",
        "\n",
        "model.compile(optimizer=opt, loss='categorical_crossentropy', metrics=['accuracy'])\n",
        "\n",
        "start_time = time.time()\n",
        "history = model.fit(X_train, y_train, epochs=5, validation_data=(X_valid, y_valid),use_multiprocessing =True)\n",
        "end_time =  time.time()\n",
        "print(model.summary())\n",
        "print('Training Time:', end_time - start_time)\n",
        "visualkeras.layered_view(model,legend=True)"
      ]
    },
    {
      "cell_type": "code",
      "execution_count": null,
      "metadata": {
        "colab": {
          "base_uri": "https://localhost:8080/",
          "height": 607
        },
        "id": "Zf1DYZJlYJZx",
        "outputId": "0241cdb9-58e2-4251-8858-2e890f94eb36"
      },
      "outputs": [
        {
          "data": {
            "image/png": "[encoded data removed]",
            "text/plain": [
              "<Figure size 1500x600 with 2 Axes>"
            ]
          },
          "metadata": {},
          "output_type": "display_data"
        }
      ],
      "source": [
        "model_plots(history,'Base CNN Model')"
      ]
    },
    {
      "cell_type": "code",
      "execution_count": null,
      "metadata": {
        "colab": {
          "base_uri": "https://localhost:8080/"
        },
        "id": "ZyOKe63QSvNi",
        "outputId": "f20272a0-ae2e-4992-a200-52deae1bb97d"
      },
      "outputs": [
        {
          "output_type": "stream",
          "name": "stdout",
          "text": [
            "Extra Metrics on Validation Set:\n",
            "\tAccuracy: 0.2097\n",
            "\tPrecision Weighted: 0.285732624083572\n",
            "\tRecall Weighted: 0.2097\n",
            "\tF1-Score Weighted: 0.18741849038424727\n"
          ]
        }
      ],
      "source": [
        "print('Extra Metrics on Validation Set:')\n",
        "predictions = model.predict(X_test,verbose=0)\n",
        "metrics = evaluate_classification_metrics(y_test,predictions,verbose=True)"
      ]
    },
    {
      "cell_type": "code",
      "source": [
        "import time\n",
        "# Create a Base Model - the simplier model using a Convolution layer\n",
        "opt = SGD(learning_rate=0.001) # Stochastic Gradient Descent optimizer\n",
        "\n",
        "model = Sequential([Conv2D(32, (3, 3), activation='relu', input_shape=(32, 32, 3)),\n",
        "                    MaxPooling2D((4, 4)),\n",
        "                    Flatten(),\n",
        "                    Dense(10, activation='softmax')])\n",
        "\n",
        "model.compile(optimizer=opt, loss='categorical_crossentropy', metrics=['accuracy'])\n",
        "\n",
        "start_time = time.time()\n",
        "history = model.fit(X_train, y_train, epochs=5, validation_data=(X_valid, y_valid),use_multiprocessing =True)\n",
        "end_time =  time.time()\n",
        "print('Training Time:', end_time - start_time)\n",
        "print('Extra Metrics on Validation Set:')\n",
        "predictions = model.predict(X_test,verbose=0)\n",
        "metrics = evaluate_classification_metrics(y_test,predictions,verbose=True)"
      ],
      "metadata": {
        "colab": {
          "base_uri": "https://localhost:8080/"
        },
        "id": "3JwKKsyRJjLy",
        "outputId": "954abca1-4224-4a54-b5fb-bd69c2ca512e"
      },
      "execution_count": null,
      "outputs": [
        {
          "output_type": "stream",
          "name": "stdout",
          "text": [
            "Epoch 1/5\n",
            "1250/1250 [==============================] - 10s 7ms/step - loss: 2.6788 - accuracy: 0.1104 - val_loss: 2.2983 - val_accuracy: 0.1182\n",
            "Epoch 2/5\n",
            "1250/1250 [==============================] - 7s 6ms/step - loss: 2.2887 - accuracy: 0.1276 - val_loss: 2.2689 - val_accuracy: 0.1488\n",
            "Epoch 3/5\n",
            "1250/1250 [==============================] - 7s 5ms/step - loss: 2.2382 - accuracy: 0.1637 - val_loss: 2.1679 - val_accuracy: 0.2102\n",
            "Epoch 4/5\n",
            "1250/1250 [==============================] - 6s 5ms/step - loss: 2.1667 - accuracy: 0.2124 - val_loss: 2.1614 - val_accuracy: 0.2203\n",
            "Epoch 5/5\n",
            "1250/1250 [==============================] - 8s 6ms/step - loss: 2.1199 - accuracy: 0.2412 - val_loss: 2.2928 - val_accuracy: 0.1196\n",
            "Training Time: 43.37388563156128\n",
            "Extra Metrics on Validation Set:\n",
            "\tAccuracy: 0.1145\n",
            "\tPrecision Weighted: 0.15223398263601165\n",
            "\tRecall Weighted: 0.1145\n",
            "\tF1-Score Weighted: 0.0569838401723287\n"
          ]
        }
      ]
    },
    {
      "cell_type": "code",
      "source": [
        "import time\n",
        "# Create a Base Model - the simplier model using a Convolution layer\n",
        "opt = SGD(learning_rate=0.001) # Stochastic Gradient Descent optimizer\n",
        "\n",
        "model = Sequential([Conv2D(64, (3, 3), activation='relu', input_shape=(32, 32, 3)),\n",
        "                    MaxPooling2D((2, 2)),\n",
        "                    Flatten(),\n",
        "                    Dense(10, activation='softmax')])\n",
        "\n",
        "model.compile(optimizer=opt, loss='categorical_crossentropy', metrics=['accuracy'])\n",
        "\n",
        "start_time = time.time()\n",
        "history = model.fit(X_train, y_train, epochs=5, validation_data=(X_valid, y_valid),use_multiprocessing =True)\n",
        "end_time =  time.time()\n",
        "print('Training Time:', end_time - start_time)\n",
        "print('Extra Metrics on Validation Set:')\n",
        "predictions = model.predict(X_test,verbose=0)\n",
        "metrics = evaluate_classification_metrics(y_test,predictions,verbose=True)"
      ],
      "metadata": {
        "colab": {
          "base_uri": "https://localhost:8080/"
        },
        "id": "-q9S3Sg8Jpgq",
        "outputId": "d3f58ab1-7fa5-443d-8b98-30d68450e948"
      },
      "execution_count": null,
      "outputs": [
        {
          "output_type": "stream",
          "name": "stdout",
          "text": [
            "Epoch 1/5\n",
            "1250/1250 [==============================] - 7s 5ms/step - loss: 2.6661 - accuracy: 0.2334 - val_loss: 1.9667 - val_accuracy: 0.3046\n",
            "Epoch 2/5\n",
            "1250/1250 [==============================] - 7s 5ms/step - loss: 2.0163 - accuracy: 0.2932 - val_loss: 1.9706 - val_accuracy: 0.3117\n",
            "Epoch 3/5\n",
            "1250/1250 [==============================] - 8s 6ms/step - loss: 2.0225 - accuracy: 0.2895 - val_loss: 2.2022 - val_accuracy: 0.2051\n",
            "Epoch 4/5\n",
            "1250/1250 [==============================] - 6s 5ms/step - loss: 2.0314 - accuracy: 0.2837 - val_loss: 1.9750 - val_accuracy: 0.3095\n",
            "Epoch 5/5\n",
            "1250/1250 [==============================] - 7s 6ms/step - loss: 1.9146 - accuracy: 0.3281 - val_loss: 2.0722 - val_accuracy: 0.2551\n",
            "Training Time: 42.02978539466858\n",
            "Extra Metrics on Validation Set:\n",
            "\tAccuracy: 0.2527\n",
            "\tPrecision Weighted: 0.27015253351503377\n",
            "\tRecall Weighted: 0.2527\n",
            "\tF1-Score Weighted: 0.2343222358767007\n"
          ]
        }
      ]
    },
    {
      "cell_type": "code",
      "source": [
        "import time\n",
        "# Create a Base Model - the simplier model using a Convolution layer\n",
        "opt = SGD(learning_rate=0.001) # Stochastic Gradient Descent optimizer\n",
        "\n",
        "model = Sequential([Conv2D(128, (3, 3), activation='relu', input_shape=(32, 32, 3)),\n",
        "                    MaxPooling2D((2, 2)),\n",
        "                    Flatten(),\n",
        "                    Dense(10, activation='softmax')])\n",
        "\n",
        "model.compile(optimizer=opt, loss='categorical_crossentropy', metrics=['accuracy'])\n",
        "\n",
        "start_time = time.time()\n",
        "history = model.fit(X_train, y_train, epochs=5, validation_data=(X_valid, y_valid),use_multiprocessing =True)\n",
        "end_time =  time.time()\n",
        "print('Training Time:', end_time - start_time)\n",
        "print('Extra Metrics on Validation Set:')\n",
        "predictions = model.predict(X_test,verbose=0)\n",
        "metrics = evaluate_classification_metrics(y_test,predictions,verbose=True)"
      ],
      "metadata": {
        "colab": {
          "base_uri": "https://localhost:8080/"
        },
        "id": "6jyuINOMKT7_",
        "outputId": "b588eed6-a13e-4c30-d806-29d5cecfce1b"
      },
      "execution_count": null,
      "outputs": [
        {
          "output_type": "stream",
          "name": "stdout",
          "text": [
            "Epoch 1/5\n",
            "1250/1250 [==============================] - 6s 5ms/step - loss: 4.1213 - accuracy: 0.2499 - val_loss: 1.9261 - val_accuracy: 0.3234\n",
            "Epoch 2/5\n",
            "1250/1250 [==============================] - 6s 5ms/step - loss: 1.9004 - accuracy: 0.3357 - val_loss: 1.7734 - val_accuracy: 0.3935\n",
            "Epoch 3/5\n",
            "1250/1250 [==============================] - 6s 5ms/step - loss: 1.7925 - accuracy: 0.3822 - val_loss: 1.8497 - val_accuracy: 0.3522\n",
            "Epoch 4/5\n",
            "1250/1250 [==============================] - 6s 4ms/step - loss: 1.8222 - accuracy: 0.3704 - val_loss: 1.8682 - val_accuracy: 0.3531\n",
            "Epoch 5/5\n",
            "1250/1250 [==============================] - 5s 4ms/step - loss: 1.8778 - accuracy: 0.3499 - val_loss: 1.9527 - val_accuracy: 0.3214\n",
            "Training Time: 41.89181399345398\n",
            "Extra Metrics on Validation Set:\n",
            "\tAccuracy: 0.3175\n",
            "\tPrecision Weighted: 0.3208737222279916\n",
            "\tRecall Weighted: 0.3175\n",
            "\tF1-Score Weighted: 0.3122751781310912\n"
          ]
        }
      ]
    },
    {
      "cell_type": "code",
      "source": [
        "import time\n",
        "# Create a Base Model - the simplier model using a Convolution layer\n",
        "opt = SGD(learning_rate=0.001) # Stochastic Gradient Descent optimizer\n",
        "\n",
        "model = Sequential([Conv2D(32, (3, 3), activation='sigmoid', input_shape=(32, 32, 3)),\n",
        "                    MaxPooling2D((2, 2)),\n",
        "                    Flatten(),\n",
        "                    Dense(10, activation='softmax')])\n",
        "\n",
        "model.compile(optimizer=opt, loss='categorical_crossentropy', metrics=['accuracy'])\n",
        "\n",
        "start_time = time.time()\n",
        "history = model.fit(X_train, y_train, epochs=5, validation_data=(X_valid, y_valid),use_multiprocessing =True)\n",
        "end_time =  time.time()\n",
        "print('Training Time:', end_time - start_time)\n",
        "print('Extra Metrics on Validation Set:')\n",
        "predictions = model.predict(X_test,verbose=0)\n",
        "metrics = evaluate_classification_metrics(y_test,predictions,verbose=True)"
      ],
      "metadata": {
        "colab": {
          "base_uri": "https://localhost:8080/"
        },
        "id": "iiP5HMR0KVyV",
        "outputId": "ea489396-2e58-4a7b-b341-fc7e4a5a86fd"
      },
      "execution_count": null,
      "outputs": [
        {
          "output_type": "stream",
          "name": "stdout",
          "text": [
            "Epoch 1/5\n",
            "1250/1250 [==============================] - 7s 5ms/step - loss: 1.9251 - accuracy: 0.3033 - val_loss: 1.7376 - val_accuracy: 0.3756\n",
            "Epoch 2/5\n",
            "1250/1250 [==============================] - 8s 6ms/step - loss: 1.6773 - accuracy: 0.4007 - val_loss: 1.6300 - val_accuracy: 0.4142\n",
            "Epoch 3/5\n",
            "1250/1250 [==============================] - 10s 8ms/step - loss: 1.5826 - accuracy: 0.4392 - val_loss: 1.5280 - val_accuracy: 0.4601\n",
            "Epoch 4/5\n",
            "1250/1250 [==============================] - 6s 5ms/step - loss: 1.5200 - accuracy: 0.4626 - val_loss: 1.4966 - val_accuracy: 0.4750\n",
            "Epoch 5/5\n",
            "1250/1250 [==============================] - 7s 6ms/step - loss: 1.4741 - accuracy: 0.4804 - val_loss: 1.4536 - val_accuracy: 0.4863\n",
            "Training Time: 39.384830474853516\n",
            "Extra Metrics on Validation Set:\n",
            "\tAccuracy: 0.4814\n",
            "\tPrecision Weighted: 0.4895195814098404\n",
            "\tRecall Weighted: 0.4814\n",
            "\tF1-Score Weighted: 0.47265048636257734\n"
          ]
        }
      ]
    },
    {
      "cell_type": "code",
      "source": [
        "import time\n",
        "# Create a Base Model - the simplier model using a Convolution layer\n",
        "opt = SGD(learning_rate=0.001) # Stochastic Gradient Descent optimizer\n",
        "\n",
        "model = Sequential([Conv2D(32, (3, 3), activation='relu', input_shape=(32, 32, 3)),\n",
        "                    MaxPooling2D((2, 2)),\n",
        "                    Flatten(),\n",
        "                    Dense(10, activation='softmax')])\n",
        "\n",
        "model.compile(optimizer=opt, loss='categorical_crossentropy', metrics=['accuracy'])\n",
        "\n",
        "start_time = time.time()\n",
        "history = model.fit(X_train, y_train, epochs=10, validation_data=(X_valid, y_valid),use_multiprocessing =True)\n",
        "end_time =  time.time()\n",
        "print('Training Time:', end_time - start_time)\n",
        "print('Extra Metrics on Validation Set:')\n",
        "predictions = model.predict(X_test,verbose=0)\n",
        "metrics = evaluate_classification_metrics(y_test,predictions,verbose=True)"
      ],
      "metadata": {
        "colab": {
          "base_uri": "https://localhost:8080/"
        },
        "id": "Ba9DCGN6Kair",
        "outputId": "30c05116-0038-4f12-8d8d-45559d6e6d33"
      },
      "execution_count": null,
      "outputs": [
        {
          "output_type": "stream",
          "name": "stdout",
          "text": [
            "Epoch 1/10\n",
            "1250/1250 [==============================] - 10s 8ms/step - loss: 3.9314 - accuracy: 0.1302 - val_loss: 2.2521 - val_accuracy: 0.1638\n",
            "Epoch 2/10\n",
            "1250/1250 [==============================] - 6s 5ms/step - loss: 2.2141 - accuracy: 0.1866 - val_loss: 2.1615 - val_accuracy: 0.2169\n",
            "Epoch 3/10\n",
            "1250/1250 [==============================] - 5s 4ms/step - loss: 2.1436 - accuracy: 0.2265 - val_loss: 2.1118 - val_accuracy: 0.2594\n",
            "Epoch 4/10\n",
            "1250/1250 [==============================] - 5s 4ms/step - loss: 2.2124 - accuracy: 0.1797 - val_loss: 2.1011 - val_accuracy: 0.2517\n",
            "Epoch 5/10\n",
            "1250/1250 [==============================] - 5s 4ms/step - loss: 2.0885 - accuracy: 0.2529 - val_loss: 2.0559 - val_accuracy: 0.2733\n",
            "Epoch 6/10\n",
            "1250/1250 [==============================] - 5s 4ms/step - loss: 2.1153 - accuracy: 0.2386 - val_loss: 2.1560 - val_accuracy: 0.2159\n",
            "Epoch 7/10\n",
            "1250/1250 [==============================] - 6s 4ms/step - loss: 2.0273 - accuracy: 0.2805 - val_loss: 1.9891 - val_accuracy: 0.3065\n",
            "Epoch 8/10\n",
            "1250/1250 [==============================] - 4s 4ms/step - loss: 2.1229 - accuracy: 0.2370 - val_loss: 2.0963 - val_accuracy: 0.2512\n",
            "Epoch 9/10\n",
            "1250/1250 [==============================] - 5s 4ms/step - loss: 2.0980 - accuracy: 0.2446 - val_loss: 1.9904 - val_accuracy: 0.3010\n",
            "Epoch 10/10\n",
            "1250/1250 [==============================] - 4s 3ms/step - loss: 1.9504 - accuracy: 0.3126 - val_loss: 1.9251 - val_accuracy: 0.3282\n",
            "Training Time: 83.27729034423828\n",
            "Extra Metrics on Validation Set:\n",
            "\tAccuracy: 0.319\n",
            "\tPrecision Weighted: 0.31845334377198375\n",
            "\tRecall Weighted: 0.319\n",
            "\tF1-Score Weighted: 0.31527666249484687\n"
          ]
        }
      ]
    },
    {
      "cell_type": "code",
      "source": [
        "import time\n",
        "# Create a Base Model - the simplier model using a Convolution layer\n",
        "opt = Adam(learning_rate=0.001) # Stochastic Gradient Descent optimizer\n",
        "\n",
        "model = Sequential([Conv2D(32, (3, 3), activation='relu', input_shape=(32, 32, 3)),\n",
        "                    MaxPooling2D((2, 2)),\n",
        "                    Flatten(),\n",
        "                    Dense(10, activation='softmax')])\n",
        "\n",
        "model.compile(optimizer=opt, loss='categorical_crossentropy', metrics=['accuracy'])\n",
        "\n",
        "start_time = time.time()\n",
        "history = model.fit(X_train, y_train, epochs=5, validation_data=(X_valid, y_valid),use_multiprocessing =True)\n",
        "end_time =  time.time()\n",
        "print('Training Time:', end_time - start_time)\n",
        "print('Extra Metrics on Validation Set:')\n",
        "predictions = model.predict(X_test,verbose=0)\n",
        "metrics = evaluate_classification_metrics(y_test,predictions,verbose=True)"
      ],
      "metadata": {
        "colab": {
          "base_uri": "https://localhost:8080/"
        },
        "id": "8lqpsDTSKeN6",
        "outputId": "c1de7e62-3811-45d4-f624-6ca291da18f8"
      },
      "execution_count": null,
      "outputs": [
        {
          "output_type": "stream",
          "name": "stdout",
          "text": [
            "Epoch 1/5\n",
            "1250/1250 [==============================] - 5s 4ms/step - loss: 2.8538 - accuracy: 0.2655 - val_loss: 1.9065 - val_accuracy: 0.3469\n",
            "Epoch 2/5\n",
            "1250/1250 [==============================] - 4s 3ms/step - loss: 1.8035 - accuracy: 0.3823 - val_loss: 1.8798 - val_accuracy: 0.3723\n",
            "Epoch 3/5\n",
            "1250/1250 [==============================] - 5s 4ms/step - loss: 1.6721 - accuracy: 0.4238 - val_loss: 1.8666 - val_accuracy: 0.3654\n",
            "Epoch 4/5\n",
            "1250/1250 [==============================] - 4s 3ms/step - loss: 1.6004 - accuracy: 0.4472 - val_loss: 1.9086 - val_accuracy: 0.3664\n",
            "Epoch 5/5\n",
            "1250/1250 [==============================] - 5s 4ms/step - loss: 1.5761 - accuracy: 0.4570 - val_loss: 1.8858 - val_accuracy: 0.3904\n",
            "Training Time: 25.25597643852234\n",
            "Extra Metrics on Validation Set:\n",
            "\tAccuracy: 0.3742\n",
            "\tPrecision Weighted: 0.3935742208169866\n",
            "\tRecall Weighted: 0.3742\n",
            "\tF1-Score Weighted: 0.37519727287700244\n"
          ]
        }
      ]
    },
    {
      "cell_type": "code",
      "source": [
        "import time\n",
        "# Create a Base Model - the simplier model using a Convolution layer\n",
        "opt = SGD(learning_rate=0.001) # Stochastic Gradient Descent optimizer\n",
        "\n",
        "model = Sequential([Conv2D(32, (3, 3), activation='relu', input_shape=(32, 32, 3)),\n",
        "                    Flatten(),\n",
        "                    Dense(10, activation='softmax')])\n",
        "\n",
        "model.compile(optimizer=opt, loss='categorical_crossentropy', metrics=['accuracy'])\n",
        "\n",
        "start_time = time.time()\n",
        "history = model.fit(X_train, y_train, epochs=5, validation_data=(X_valid, y_valid),use_multiprocessing =True)\n",
        "end_time =  time.time()\n",
        "print('Training Time:', end_time - start_time)\n",
        "print('Extra Metrics on Validation Set:')\n",
        "predictions = model.predict(X_test,verbose=0)\n",
        "metrics = evaluate_classification_metrics(y_test,predictions,verbose=True)"
      ],
      "metadata": {
        "colab": {
          "base_uri": "https://localhost:8080/"
        },
        "id": "30HT-E7YKxCR",
        "outputId": "b75cacd8-b45e-42b6-a89a-32cbf8b92365"
      },
      "execution_count": null,
      "outputs": [
        {
          "output_type": "stream",
          "name": "stdout",
          "text": [
            "Epoch 1/5\n",
            "1250/1250 [==============================] - 5s 4ms/step - loss: 3.6731 - accuracy: 0.1854 - val_loss: 2.1240 - val_accuracy: 0.2341\n",
            "Epoch 2/5\n",
            "1250/1250 [==============================] - 5s 4ms/step - loss: 2.0688 - accuracy: 0.2592 - val_loss: 2.0129 - val_accuracy: 0.3094\n",
            "Epoch 3/5\n",
            "1250/1250 [==============================] - 4s 3ms/step - loss: 1.9417 - accuracy: 0.3183 - val_loss: 1.9413 - val_accuracy: 0.3205\n",
            "Epoch 4/5\n",
            "1250/1250 [==============================] - 4s 3ms/step - loss: 1.8853 - accuracy: 0.3387 - val_loss: 1.9276 - val_accuracy: 0.3303\n",
            "Epoch 5/5\n",
            "1250/1250 [==============================] - 6s 4ms/step - loss: 1.9023 - accuracy: 0.3386 - val_loss: 2.1123 - val_accuracy: 0.2667\n",
            "Training Time: 25.433655261993408\n",
            "Extra Metrics on Validation Set:\n",
            "\tAccuracy: 0.2589\n",
            "\tPrecision Weighted: 0.26421639888130416\n",
            "\tRecall Weighted: 0.2589\n",
            "\tF1-Score Weighted: 0.24915227560541156\n"
          ]
        }
      ]
    },
    {
      "cell_type": "markdown",
      "metadata": {
        "id": "jjRCJdM_YlpO"
      },
      "source": [
        "The learning curves do not have the \"normal\" monotonous shape that usually shows that the model learns. At the other hand, the curves showcase zik-zaks and ups and downs.\n",
        "Trying the simplest model with the more complex Adam Optimizer as well."
      ]
    },
    {
      "cell_type": "code",
      "execution_count": null,
      "metadata": {
        "colab": {
          "base_uri": "https://localhost:8080/",
          "height": 1000
        },
        "id": "YHQV2t2fQhcQ",
        "outputId": "ac3ae11a-54b4-4ef7-cd2f-c74de2a57f46"
      },
      "outputs": [
        {
          "name": "stdout",
          "output_type": "stream",
          "text": [
            "Epoch 1/10\n",
            "1250/1250 [==============================] - 6s 4ms/step - loss: 10.2681 - accuracy: 0.3055 - val_loss: 5.6017 - val_accuracy: 0.3564\n",
            "Epoch 2/10\n",
            "1250/1250 [==============================] - 4s 3ms/step - loss: 4.0909 - accuracy: 0.4164 - val_loss: 3.4983 - val_accuracy: 0.4311\n",
            "Epoch 3/10\n",
            "1250/1250 [==============================] - 5s 4ms/step - loss: 2.7070 - accuracy: 0.4643 - val_loss: 2.5849 - val_accuracy: 0.4435\n",
            "Epoch 4/10\n",
            "1250/1250 [==============================] - 9s 7ms/step - loss: 1.9720 - accuracy: 0.4859 - val_loss: 2.1499 - val_accuracy: 0.4514\n",
            "Epoch 5/10\n",
            "1250/1250 [==============================] - 8s 6ms/step - loss: 1.6024 - accuracy: 0.5268 - val_loss: 1.9282 - val_accuracy: 0.4780\n",
            "Epoch 6/10\n",
            "1250/1250 [==============================] - 6s 5ms/step - loss: 1.3779 - accuracy: 0.5697 - val_loss: 1.7867 - val_accuracy: 0.4999\n",
            "Epoch 7/10\n",
            "1250/1250 [==============================] - 5s 4ms/step - loss: 1.2215 - accuracy: 0.6012 - val_loss: 1.7807 - val_accuracy: 0.5031\n",
            "Epoch 8/10\n",
            "1250/1250 [==============================] - 4s 3ms/step - loss: 1.1057 - accuracy: 0.6335 - val_loss: 1.6749 - val_accuracy: 0.5258\n",
            "Epoch 9/10\n",
            "1250/1250 [==============================] - 4s 3ms/step - loss: 1.0173 - accuracy: 0.6623 - val_loss: 1.7118 - val_accuracy: 0.5073\n",
            "Epoch 10/10\n",
            "1250/1250 [==============================] - 5s 4ms/step - loss: 0.9354 - accuracy: 0.6858 - val_loss: 1.6486 - val_accuracy: 0.5325\n",
            "Model: \"sequential_1\"\n",
            "_________________________________________________________________\n",
            " Layer (type)                Output Shape              Param #   \n",
            "=================================================================\n",
            " input_conv (Conv2D)         (None, 30, 30, 32)        896       \n",
            "                                                                 \n",
            " max_pooling2d_1 (MaxPoolin  (None, 15, 15, 32)        0         \n",
            " g2D)                                                            \n",
            "                                                                 \n",
            " flatten_1 (Flatten)         (None, 7200)              0         \n",
            "                                                                 \n",
            " dense_1 (Dense)             (None, 10)                72010     \n",
            "                                                                 \n",
            "=================================================================\n",
            "Total params: 72906 (284.79 KB)\n",
            "Trainable params: 72906 (284.79 KB)\n",
            "Non-trainable params: 0 (0.00 Byte)\n",
            "_________________________________________________________________\n",
            "None\n",
            "Training Time:  56.66504764556885\n",
            "313/313 [==============================] - 1s 2ms/step\n"
          ]
        },
        {
          "data": {
            "image/png": "[encoded data removed]",
            "text/plain": [
              "<Figure size 1500x500 with 1 Axes>"
            ]
          },
          "metadata": {},
          "output_type": "display_data"
        },
        {
          "data": {
            "image/png": "[encoded data removed]",
            "text/plain": [
              "<Figure size 1500x500 with 8 Axes>"
            ]
          },
          "metadata": {},
          "output_type": "display_data"
        }
      ],
      "source": [
        "# Create a Base Model - the simplier model using a Convolution layer\n",
        "opt = Adam(learning_rate=0.0001) # Adam optimizer\n",
        "\n",
        "model = Sequential([Conv2D(32, (3, 3), activation='relu', input_shape=(32, 32, 3),name = 'input_conv'), # Input 2D Convolutional Layer\n",
        "                    MaxPooling2D((2, 2)), # Max Pooling Layer to reduce the dimension\n",
        "                    Flatten(), # Flatten Layer to get the data ready for the final Dense Layer\n",
        "                    Dense(10, activation='softmax')]) # Dense Layer for classification Predictions\n",
        "\n",
        "model.compile(optimizer=opt, loss='categorical_crossentropy', metrics=['accuracy'])\n",
        "\n",
        "start_time = time.time()\n",
        "history = model.fit(X_train, y_train, epochs=10, validation_data=(X_valid, y_valid),use_multiprocessing =True)\n",
        "end_time = time.time()\n",
        "\n",
        "print(model.summary())\n",
        "print('Training Time: ',end_time - start_time)\n",
        "visualize_intermediate_outputs(model, ['input_conv'], X_valid)"
      ]
    },
    {
      "cell_type": "code",
      "execution_count": null,
      "metadata": {
        "colab": {
          "base_uri": "https://localhost:8080/"
        },
        "id": "QmsIm1sBSZHF",
        "outputId": "bdcfb982-8559-4903-882f-9815a2f51d2f"
      },
      "outputs": [
        {
          "name": "stdout",
          "output_type": "stream",
          "text": [
            "Extra Metrics on Validation Set:\n",
            "\tAccuracy: 0.5349\n",
            "\tPrecision Weighted: 0.5367729819758174\n",
            "\tRecall Weighted: 0.5349\n",
            "\tF1-Score Weighted: 0.534182171579744\n"
          ]
        }
      ],
      "source": [
        "print('Extra Metrics on Validation Set:')\n",
        "predictions = model.predict(X_test,verbose=0)\n",
        "metrics = evaluate_classification_metrics(y_test,predictions,verbose=True)"
      ]
    },
    {
      "cell_type": "code",
      "execution_count": null,
      "metadata": {
        "colab": {
          "base_uri": "https://localhost:8080/",
          "height": 607
        },
        "id": "9da3WVWoW4Et",
        "outputId": "7c46844f-0822-4d54-e2c5-8fc770a33b7c"
      },
      "outputs": [
        {
          "data": {
            "image/png": "[encoded data removed]",
            "text/plain": [
              "<Figure size 1500x600 with 2 Axes>"
            ]
          },
          "metadata": {},
          "output_type": "display_data"
        }
      ],
      "source": [
        "model_plots(history,'Base 1 CNN Model')"
      ]
    },
    {
      "cell_type": "markdown",
      "metadata": {
        "id": "Iuw6HewHYSYM"
      },
      "source": [
        "In the previous cells, we saw that by using one convolutional layer we accomplished better accuracy than we did with more complex fully-connected Architectures with many more layers and much more investigation. The simple architecture already seems to be learning the complex patterns of the dataset images. The usage of Conv2D layers that exploit the spatial characteristics and features of the image seems very beneficial.\n",
        "\n",
        "In the architecture below, a second Conv2D layer have been added."
      ]
    },
    {
      "cell_type": "code",
      "execution_count": null,
      "metadata": {
        "colab": {
          "base_uri": "https://localhost:8080/",
          "height": 1000
        },
        "id": "mUL-3AYz-I7l",
        "outputId": "f20fac09-2c8a-49d2-84c0-f2b52da0fc50"
      },
      "outputs": [
        {
          "name": "stdout",
          "output_type": "stream",
          "text": [
            "Epoch 1/10\n",
            "1250/1250 [==============================] - 7s 5ms/step - loss: 2.3044 - accuracy: 0.3281 - val_loss: 1.5780 - val_accuracy: 0.4186\n",
            "Epoch 2/10\n",
            "1250/1250 [==============================] - 5s 4ms/step - loss: 1.4726 - accuracy: 0.4706 - val_loss: 1.4079 - val_accuracy: 0.5001\n",
            "Epoch 3/10\n",
            "1250/1250 [==============================] - 5s 4ms/step - loss: 1.3320 - accuracy: 0.5343 - val_loss: 1.3683 - val_accuracy: 0.5249\n",
            "Epoch 4/10\n",
            "1250/1250 [==============================] - 6s 4ms/step - loss: 1.2403 - accuracy: 0.5709 - val_loss: 1.3181 - val_accuracy: 0.5465\n",
            "Epoch 5/10\n",
            "1250/1250 [==============================] - 5s 4ms/step - loss: 1.1703 - accuracy: 0.5952 - val_loss: 1.2446 - val_accuracy: 0.5712\n",
            "Epoch 6/10\n",
            "1250/1250 [==============================] - 6s 5ms/step - loss: 1.1236 - accuracy: 0.6144 - val_loss: 1.2212 - val_accuracy: 0.5803\n",
            "Epoch 7/10\n",
            "1250/1250 [==============================] - 6s 5ms/step - loss: 1.0946 - accuracy: 0.6217 - val_loss: 1.1796 - val_accuracy: 0.6015\n",
            "Epoch 8/10\n",
            "1250/1250 [==============================] - 5s 4ms/step - loss: 1.0514 - accuracy: 0.6419 - val_loss: 1.2049 - val_accuracy: 0.5886\n",
            "Epoch 9/10\n",
            "1250/1250 [==============================] - 5s 4ms/step - loss: 1.0225 - accuracy: 0.6470 - val_loss: 1.2575 - val_accuracy: 0.5830\n",
            "Epoch 10/10\n",
            "1250/1250 [==============================] - 5s 4ms/step - loss: 1.0010 - accuracy: 0.6539 - val_loss: 1.2795 - val_accuracy: 0.5817\n",
            "Model: \"sequential_2\"\n",
            "_________________________________________________________________\n",
            " Layer (type)                Output Shape              Param #   \n",
            "=================================================================\n",
            " conv1 (Conv2D)              (None, 30, 30, 32)        896       \n",
            "                                                                 \n",
            " max_pooling2d_2 (MaxPoolin  (None, 15, 15, 32)        0         \n",
            " g2D)                                                            \n",
            "                                                                 \n",
            " conv2 (Conv2D)              (None, 13, 13, 64)        18496     \n",
            "                                                                 \n",
            " max_pooling2d_3 (MaxPoolin  (None, 6, 6, 64)          0         \n",
            " g2D)                                                            \n",
            "                                                                 \n",
            " flatten_2 (Flatten)         (None, 2304)              0         \n",
            "                                                                 \n",
            " dense_2 (Dense)             (None, 10)                23050     \n",
            "                                                                 \n",
            "=================================================================\n",
            "Total params: 42442 (165.79 KB)\n",
            "Trainable params: 42442 (165.79 KB)\n",
            "Non-trainable params: 0 (0.00 Byte)\n",
            "_________________________________________________________________\n",
            "None\n",
            "Training Time: 54.67046856880188\n",
            "313/313 [==============================] - 0s 1ms/step\n",
            "313/313 [==============================] - 1s 2ms/step\n"
          ]
        },
        {
          "data": {
            "image/png": "[encoded data removed]",
            "text/plain": [
              "<Figure size 1500x500 with 1 Axes>"
            ]
          },
          "metadata": {},
          "output_type": "display_data"
        },
        {
          "data": {
            "image/png": "[encoded data removed]",
            "text/plain": [
              "<Figure size 1500x500 with 8 Axes>"
            ]
          },
          "metadata": {},
          "output_type": "display_data"
        },
        {
          "data": {
            "image/png": "[encoded data removed]",
            "text/plain": [
              "<Figure size 1500x500 with 8 Axes>"
            ]
          },
          "metadata": {},
          "output_type": "display_data"
        }
      ],
      "source": [
        "model = Sequential([Conv2D(32, (3, 3), activation='relu', input_shape=(32, 32, 3), name='conv1'),\n",
        "                    MaxPooling2D((2, 2)),\n",
        "                    Conv2D(64, (3, 3), activation='relu', name='conv2'),\n",
        "                    MaxPooling2D((2, 2)),\n",
        "                    Flatten(),\n",
        "                    Dense(10, activation='softmax')])\n",
        "\n",
        "# Compile the model (you can use your preferred optimizer, loss, and metrics)\n",
        "model.compile(optimizer='adam', loss='categorical_crossentropy', metrics=['accuracy'])\n",
        "\n",
        "start_time = time.time()\n",
        "# Train the model\n",
        "history = model.fit(X_train, y_train, epochs=10, validation_data=(X_valid, y_valid),use_multiprocessing =True)\n",
        "end_time = time.time()\n",
        "\n",
        "print(model.summary())\n",
        "print('Training Time:', end_time - start_time)\n",
        "# Visualize intermediate outputs at certain epochs to check how the features are extracted\n",
        "visualize_intermediate_outputs(model, ['conv1', 'conv2'], X_valid)"
      ]
    },
    {
      "cell_type": "code",
      "execution_count": null,
      "metadata": {
        "colab": {
          "base_uri": "https://localhost:8080/"
        },
        "id": "LJYB7ntqSeev",
        "outputId": "e1455b00-ec6f-4172-8831-b5aba1756099"
      },
      "outputs": [
        {
          "name": "stdout",
          "output_type": "stream",
          "text": [
            "Extra Metrics on Validation Set:\n",
            "\tAccuracy: 0.5887\n",
            "\tPrecision Weighted: 0.5965956236309656\n",
            "\tRecall Weighted: 0.5887\n",
            "\tF1-Score Weighted: 0.5875378859467076\n"
          ]
        }
      ],
      "source": [
        "print('Extra Metrics on Validation Set:')\n",
        "predictions = model.predict(X_test,verbose=0)\n",
        "metrics = evaluate_classification_metrics(y_test,predictions,verbose=True)"
      ]
    },
    {
      "cell_type": "code",
      "execution_count": null,
      "metadata": {
        "colab": {
          "base_uri": "https://localhost:8080/",
          "height": 803
        },
        "id": "U0qU0s9ROw7X",
        "outputId": "0b049c13-1689-48f2-a798-8d6f54031ced"
      },
      "outputs": [
        {
          "data": {
            "image/png": "[encoded data removed]",
            "text/plain": [
              "<Figure size 1500x600 with 2 Axes>"
            ]
          },
          "metadata": {},
          "output_type": "display_data"
        },
        {
          "data": {
            "image/png": "[encoded data removed]",
            "text/plain": [
              "<PIL.Image.Image image mode=RGBA size=424x196>"
            ]
          },
          "execution_count": 23,
          "metadata": {},
          "output_type": "execute_result"
        }
      ],
      "source": [
        "model_plots(history,'Base 2 CNN Model')\n",
        "visualkeras.layered_view(model,legend=True)"
      ]
    },
    {
      "cell_type": "code",
      "execution_count": null,
      "metadata": {
        "colab": {
          "base_uri": "https://localhost:8080/"
        },
        "id": "DpWflX_zSEIE",
        "outputId": "14a8d8eb-4ff5-4915-c7b2-2646b1b4de23"
      },
      "outputs": [
        {
          "name": "stdout",
          "output_type": "stream",
          "text": [
            "Epoch 1/10\n",
            "1250/1250 [==============================] - 8s 5ms/step - loss: 2.7982 - accuracy: 0.2782 - val_loss: 1.8319 - val_accuracy: 0.3541\n",
            "Epoch 2/10\n",
            "1250/1250 [==============================] - 5s 4ms/step - loss: 1.7289 - accuracy: 0.3853 - val_loss: 1.6727 - val_accuracy: 0.4096\n",
            "Epoch 3/10\n",
            "1250/1250 [==============================] - 4s 4ms/step - loss: 1.5952 - accuracy: 0.4336 - val_loss: 1.6262 - val_accuracy: 0.4336\n",
            "Epoch 4/10\n",
            "1250/1250 [==============================] - 6s 5ms/step - loss: 1.5010 - accuracy: 0.4672 - val_loss: 1.5227 - val_accuracy: 0.4637\n",
            "Epoch 5/10\n",
            "1250/1250 [==============================] - 5s 4ms/step - loss: 1.4319 - accuracy: 0.4943 - val_loss: 1.4813 - val_accuracy: 0.4926\n",
            "Epoch 6/10\n",
            "1250/1250 [==============================] - 5s 4ms/step - loss: 1.3702 - accuracy: 0.5219 - val_loss: 1.5313 - val_accuracy: 0.4531\n",
            "Epoch 7/10\n",
            "1250/1250 [==============================] - 5s 4ms/step - loss: 1.3203 - accuracy: 0.5373 - val_loss: 1.3360 - val_accuracy: 0.5348\n",
            "Epoch 8/10\n",
            "1250/1250 [==============================] - 5s 4ms/step - loss: 1.2856 - accuracy: 0.5494 - val_loss: 1.3669 - val_accuracy: 0.5256\n",
            "Epoch 9/10\n",
            "1250/1250 [==============================] - 6s 5ms/step - loss: 1.2603 - accuracy: 0.5608 - val_loss: 1.3206 - val_accuracy: 0.5412\n",
            "Epoch 10/10\n",
            "1250/1250 [==============================] - 5s 4ms/step - loss: 1.2328 - accuracy: 0.5706 - val_loss: 1.2933 - val_accuracy: 0.5521\n",
            "Model: \"sequential_3\"\n",
            "_________________________________________________________________\n",
            " Layer (type)                Output Shape              Param #   \n",
            "=================================================================\n",
            " conv1 (Conv2D)              (None, 30, 30, 32)        896       \n",
            "                                                                 \n",
            " max_pooling2d_4 (MaxPoolin  (None, 7, 7, 32)          0         \n",
            " g2D)                                                            \n",
            "                                                                 \n",
            " conv2 (Conv2D)              (None, 5, 5, 64)          18496     \n",
            "                                                                 \n",
            " max_pooling2d_5 (MaxPoolin  (None, 1, 1, 64)          0         \n",
            " g2D)                                                            \n",
            "                                                                 \n",
            " flatten_3 (Flatten)         (None, 64)                0         \n",
            "                                                                 \n",
            " dense_3 (Dense)             (None, 10)                650       \n",
            "                                                                 \n",
            "=================================================================\n",
            "Total params: 20042 (78.29 KB)\n",
            "Trainable params: 20042 (78.29 KB)\n",
            "Non-trainable params: 0 (0.00 Byte)\n",
            "_________________________________________________________________\n",
            "None\n",
            "Training Time: 54.230278730392456\n",
            "Extra Metrics on Validation Set:\n",
            "\tAccuracy: 0.555\n",
            "\tPrecision Weighted: 0.5622047011058973\n",
            "\tRecall Weighted: 0.555\n",
            "\tF1-Score Weighted: 0.550892753748713\n"
          ]
        }
      ],
      "source": [
        "model = Sequential([Conv2D(32, (3, 3), activation='relu', input_shape=(32, 32, 3), name='conv1'),\n",
        "                    MaxPooling2D((4, 4)),\n",
        "                    Conv2D(64, (3, 3), activation='relu', name='conv2'),\n",
        "                    MaxPooling2D((4, 4)),\n",
        "                    Flatten(),\n",
        "                    Dense(10, activation='softmax')])\n",
        "\n",
        "# Compile the model (you can use your preferred optimizer, loss, and metrics)\n",
        "model.compile(optimizer='adam', loss='categorical_crossentropy', metrics=['accuracy'])\n",
        "\n",
        "start_time = time.time()\n",
        "# Train the model\n",
        "history = model.fit(X_train, y_train, epochs=10, validation_data=(X_valid, y_valid),use_multiprocessing =True)\n",
        "end_time = time.time()\n",
        "\n",
        "print(model.summary())\n",
        "print('Training Time:', end_time - start_time)\n",
        "\n",
        "print('Extra Metrics on Validation Set:')\n",
        "predictions = model.predict(X_test,verbose=0)\n",
        "metrics = evaluate_classification_metrics(y_test,predictions,verbose=True)"
      ]
    },
    {
      "cell_type": "code",
      "execution_count": null,
      "metadata": {
        "colab": {
          "base_uri": "https://localhost:8080/"
        },
        "id": "OYybb00FTj-t",
        "outputId": "ca1f3e63-6bae-4c3d-aa15-758d32712bc8"
      },
      "outputs": [
        {
          "name": "stdout",
          "output_type": "stream",
          "text": [
            "Epoch 1/10\n",
            "1250/1250 [==============================] - 13s 8ms/step - loss: 2.5859 - accuracy: 0.2016 - val_loss: 1.7893 - val_accuracy: 0.3510\n",
            "Epoch 2/10\n",
            "1250/1250 [==============================] - 8s 6ms/step - loss: 1.6237 - accuracy: 0.4130 - val_loss: 1.6382 - val_accuracy: 0.4305\n",
            "Epoch 3/10\n",
            "1250/1250 [==============================] - 7s 6ms/step - loss: 1.3915 - accuracy: 0.5117 - val_loss: 1.3627 - val_accuracy: 0.5126\n",
            "Epoch 4/10\n",
            "1250/1250 [==============================] - 6s 5ms/step - loss: 1.2415 - accuracy: 0.5672 - val_loss: 1.2612 - val_accuracy: 0.5720\n",
            "Epoch 5/10\n",
            "1250/1250 [==============================] - 7s 5ms/step - loss: 1.1576 - accuracy: 0.6015 - val_loss: 1.2011 - val_accuracy: 0.5948\n",
            "Epoch 6/10\n",
            "1250/1250 [==============================] - 11s 9ms/step - loss: 1.1013 - accuracy: 0.6230 - val_loss: 1.2529 - val_accuracy: 0.5860\n",
            "Epoch 7/10\n",
            "1250/1250 [==============================] - 6s 5ms/step - loss: 1.0507 - accuracy: 0.6409 - val_loss: 1.2318 - val_accuracy: 0.5827\n",
            "Epoch 8/10\n",
            "1250/1250 [==============================] - 7s 5ms/step - loss: 1.0165 - accuracy: 0.6518 - val_loss: 1.2487 - val_accuracy: 0.5987\n",
            "Epoch 9/10\n",
            "1250/1250 [==============================] - 7s 6ms/step - loss: 0.9773 - accuracy: 0.6652 - val_loss: 1.3933 - val_accuracy: 0.5762\n",
            "Epoch 10/10\n",
            "1250/1250 [==============================] - 6s 5ms/step - loss: 0.9523 - accuracy: 0.6752 - val_loss: 1.3098 - val_accuracy: 0.5986\n",
            "Model: \"sequential_7\"\n",
            "_________________________________________________________________\n",
            " Layer (type)                Output Shape              Param #   \n",
            "=================================================================\n",
            " conv1 (Conv2D)              (None, 30, 30, 128)       3584      \n",
            "                                                                 \n",
            " max_pooling2d_12 (MaxPooli  (None, 15, 15, 128)       0         \n",
            " ng2D)                                                           \n",
            "                                                                 \n",
            " conv2 (Conv2D)              (None, 13, 13, 128)       147584    \n",
            "                                                                 \n",
            " max_pooling2d_13 (MaxPooli  (None, 6, 6, 128)         0         \n",
            " ng2D)                                                           \n",
            "                                                                 \n",
            " flatten_7 (Flatten)         (None, 4608)              0         \n",
            "                                                                 \n",
            " dense_7 (Dense)             (None, 10)                46090     \n",
            "                                                                 \n",
            "=================================================================\n",
            "Total params: 197258 (770.54 KB)\n",
            "Trainable params: 197258 (770.54 KB)\n",
            "Non-trainable params: 0 (0.00 Byte)\n",
            "_________________________________________________________________\n",
            "None\n",
            "Training Time: 85.24722456932068\n",
            "Extra Metrics on Validation Set:\n",
            "\tAccuracy: 0.5999\n",
            "\tPrecision Weighted: 0.6151476874233666\n",
            "\tRecall Weighted: 0.5999\n",
            "\tF1-Score Weighted: 0.6037549468946057\n"
          ]
        }
      ],
      "source": [
        "model = Sequential([Conv2D(128, (3, 3), activation='relu', input_shape=(32, 32, 3), name='conv1'),\n",
        "                    MaxPooling2D((2, 2)),\n",
        "                    Conv2D(128, (3, 3), activation='relu', name='conv2'),\n",
        "                    MaxPooling2D((2, 2)),\n",
        "                    Flatten(),\n",
        "                    Dense(10, activation='softmax')])\n",
        "\n",
        "# Compile the model (you can use your preferred optimizer, loss, and metrics)\n",
        "model.compile(optimizer='adam', loss='categorical_crossentropy', metrics=['accuracy'])\n",
        "\n",
        "start_time = time.time()\n",
        "# Train the model\n",
        "history = model.fit(X_train, y_train, epochs=10, validation_data=(X_valid, y_valid),use_multiprocessing =True)\n",
        "end_time = time.time()\n",
        "\n",
        "print(model.summary())\n",
        "print('Training Time:', end_time - start_time)\n",
        "\n",
        "print('Extra Metrics on Validation Set:')\n",
        "predictions = model.predict(X_test,verbose=0)\n",
        "metrics = evaluate_classification_metrics(y_test,predictions,verbose=True)"
      ]
    },
    {
      "cell_type": "code",
      "execution_count": null,
      "metadata": {
        "colab": {
          "base_uri": "https://localhost:8080/"
        },
        "id": "X_XBOxaIT-uT",
        "outputId": "53a4484d-c023-407e-cf0b-f1c47f4f1e77"
      },
      "outputs": [
        {
          "name": "stdout",
          "output_type": "stream",
          "text": [
            "Epoch 1/10\n",
            "1250/1250 [==============================] - 8s 6ms/step - loss: 1.6842 - accuracy: 0.3905 - val_loss: 1.4220 - val_accuracy: 0.4871\n",
            "Epoch 2/10\n",
            "1250/1250 [==============================] - 6s 5ms/step - loss: 1.3631 - accuracy: 0.5159 - val_loss: 1.3510 - val_accuracy: 0.5202\n",
            "Epoch 3/10\n",
            "1250/1250 [==============================] - 7s 5ms/step - loss: 1.2490 - accuracy: 0.5569 - val_loss: 1.2402 - val_accuracy: 0.5624\n",
            "Epoch 4/10\n",
            "1250/1250 [==============================] - 7s 5ms/step - loss: 1.1723 - accuracy: 0.5863 - val_loss: 1.1583 - val_accuracy: 0.5941\n",
            "Epoch 5/10\n",
            "1250/1250 [==============================] - 7s 6ms/step - loss: 1.1386 - accuracy: 0.6003 - val_loss: 1.2446 - val_accuracy: 0.5729\n",
            "Epoch 6/10\n",
            "1250/1250 [==============================] - 7s 6ms/step - loss: 1.1078 - accuracy: 0.6130 - val_loss: 1.1544 - val_accuracy: 0.5958\n",
            "Epoch 7/10\n",
            "1250/1250 [==============================] - 6s 5ms/step - loss: 1.0857 - accuracy: 0.6193 - val_loss: 1.1382 - val_accuracy: 0.5989\n",
            "Epoch 8/10\n",
            "1250/1250 [==============================] - 7s 6ms/step - loss: 1.0611 - accuracy: 0.6258 - val_loss: 1.1438 - val_accuracy: 0.6027\n",
            "Epoch 9/10\n",
            "1250/1250 [==============================] - 6s 5ms/step - loss: 1.0431 - accuracy: 0.6346 - val_loss: 1.1763 - val_accuracy: 0.5898\n",
            "Epoch 10/10\n",
            "1250/1250 [==============================] - 7s 5ms/step - loss: 1.0339 - accuracy: 0.6382 - val_loss: 1.0658 - val_accuracy: 0.6298\n",
            "Model: \"sequential_8\"\n",
            "_________________________________________________________________\n",
            " Layer (type)                Output Shape              Param #   \n",
            "=================================================================\n",
            " conv1 (Conv2D)              (None, 30, 30, 128)       3584      \n",
            "                                                                 \n",
            " max_pooling2d_14 (MaxPooli  (None, 15, 15, 128)       0         \n",
            " ng2D)                                                           \n",
            "                                                                 \n",
            " conv2 (Conv2D)              (None, 13, 13, 128)       147584    \n",
            "                                                                 \n",
            " max_pooling2d_15 (MaxPooli  (None, 6, 6, 128)         0         \n",
            " ng2D)                                                           \n",
            "                                                                 \n",
            " flatten_8 (Flatten)         (None, 4608)              0         \n",
            "                                                                 \n",
            " dense_8 (Dense)             (None, 10)                46090     \n",
            "                                                                 \n",
            "=================================================================\n",
            "Total params: 197258 (770.54 KB)\n",
            "Trainable params: 197258 (770.54 KB)\n",
            "Non-trainable params: 0 (0.00 Byte)\n",
            "_________________________________________________________________\n",
            "None\n",
            "Training Time: 83.36328959465027\n",
            "Extra Metrics on Validation Set:\n",
            "\tAccuracy: 0.6202\n",
            "\tPrecision Weighted: 0.620595572412817\n",
            "\tRecall Weighted: 0.6202\n",
            "\tF1-Score Weighted: 0.6171188902347403\n"
          ]
        }
      ],
      "source": [
        "model = Sequential([Conv2D(128, (3, 3), activation='sigmoid', input_shape=(32, 32, 3), name='conv1'),\n",
        "                    MaxPooling2D((2, 2)),\n",
        "                    Conv2D(128, (3, 3), activation='sigmoid', name='conv2'),\n",
        "                    MaxPooling2D((2, 2)),\n",
        "                    Flatten(),\n",
        "                    Dense(10, activation='softmax')])\n",
        "\n",
        "# Compile the model (you can use your preferred optimizer, loss, and metrics)\n",
        "model.compile(optimizer='adam', loss='categorical_crossentropy', metrics=['accuracy'])\n",
        "\n",
        "start_time = time.time()\n",
        "# Train the model\n",
        "history = model.fit(X_train, y_train, epochs=10, validation_data=(X_valid, y_valid),use_multiprocessing =True)\n",
        "end_time = time.time()\n",
        "\n",
        "print(model.summary())\n",
        "print('Training Time:', end_time - start_time)\n",
        "\n",
        "print('Extra Metrics on Validation Set:')\n",
        "predictions = model.predict(X_test,verbose=0)\n",
        "metrics = evaluate_classification_metrics(y_test,predictions,verbose=True)"
      ]
    },
    {
      "cell_type": "code",
      "execution_count": null,
      "metadata": {
        "colab": {
          "base_uri": "https://localhost:8080/"
        },
        "id": "8-nEs-5bUCie",
        "outputId": "41413f71-a6d8-4b39-cfcb-3170a6e43122"
      },
      "outputs": [
        {
          "name": "stdout",
          "output_type": "stream",
          "text": [
            "Epoch 1/20\n",
            "1250/1250 [==============================] - 11s 6ms/step - loss: 2.1947 - accuracy: 0.3138 - val_loss: 1.6393 - val_accuracy: 0.4122\n",
            "Epoch 2/20\n",
            "1250/1250 [==============================] - 8s 7ms/step - loss: 1.4910 - accuracy: 0.4694 - val_loss: 1.4002 - val_accuracy: 0.5018\n",
            "Epoch 3/20\n",
            "1250/1250 [==============================] - 8s 6ms/step - loss: 1.3309 - accuracy: 0.5316 - val_loss: 1.2729 - val_accuracy: 0.5543\n",
            "Epoch 4/20\n",
            "1250/1250 [==============================] - 8s 7ms/step - loss: 1.2229 - accuracy: 0.5732 - val_loss: 1.2454 - val_accuracy: 0.5707\n",
            "Epoch 5/20\n",
            "1250/1250 [==============================] - 5s 4ms/step - loss: 1.1563 - accuracy: 0.6000 - val_loss: 1.2397 - val_accuracy: 0.5693\n",
            "Epoch 6/20\n",
            "1250/1250 [==============================] - 6s 5ms/step - loss: 1.1136 - accuracy: 0.6172 - val_loss: 1.2413 - val_accuracy: 0.5848\n",
            "Epoch 7/20\n",
            "1250/1250 [==============================] - 5s 4ms/step - loss: 1.0633 - accuracy: 0.6345 - val_loss: 1.1755 - val_accuracy: 0.5973\n",
            "Epoch 8/20\n",
            "1250/1250 [==============================] - 6s 5ms/step - loss: 1.0373 - accuracy: 0.6440 - val_loss: 1.2365 - val_accuracy: 0.5852\n",
            "Epoch 9/20\n",
            "1250/1250 [==============================] - 5s 4ms/step - loss: 1.0009 - accuracy: 0.6555 - val_loss: 1.2850 - val_accuracy: 0.5627\n",
            "Epoch 10/20\n",
            "1250/1250 [==============================] - 8s 7ms/step - loss: 0.9801 - accuracy: 0.6639 - val_loss: 1.3528 - val_accuracy: 0.5682\n",
            "Epoch 11/20\n",
            "1250/1250 [==============================] - 8s 6ms/step - loss: 0.9622 - accuracy: 0.6691 - val_loss: 1.2473 - val_accuracy: 0.5886\n",
            "Epoch 12/20\n",
            "1250/1250 [==============================] - 6s 5ms/step - loss: 0.9463 - accuracy: 0.6780 - val_loss: 1.3156 - val_accuracy: 0.5820\n",
            "Epoch 13/20\n",
            "1250/1250 [==============================] - 5s 4ms/step - loss: 0.9205 - accuracy: 0.6848 - val_loss: 1.2822 - val_accuracy: 0.5962\n",
            "Epoch 14/20\n",
            "1250/1250 [==============================] - 6s 5ms/step - loss: 0.9140 - accuracy: 0.6875 - val_loss: 1.3193 - val_accuracy: 0.5983\n",
            "Epoch 15/20\n",
            "1250/1250 [==============================] - 5s 4ms/step - loss: 0.8895 - accuracy: 0.6933 - val_loss: 1.4940 - val_accuracy: 0.5785\n",
            "Epoch 16/20\n",
            "1250/1250 [==============================] - 5s 4ms/step - loss: 0.8814 - accuracy: 0.6968 - val_loss: 1.3617 - val_accuracy: 0.5947\n",
            "Epoch 17/20\n",
            "1250/1250 [==============================] - 5s 4ms/step - loss: 0.8779 - accuracy: 0.6978 - val_loss: 1.6077 - val_accuracy: 0.5627\n",
            "Epoch 18/20\n",
            "1250/1250 [==============================] - 5s 4ms/step - loss: 0.8596 - accuracy: 0.7068 - val_loss: 1.4005 - val_accuracy: 0.5964\n",
            "Epoch 19/20\n",
            "1250/1250 [==============================] - 6s 5ms/step - loss: 0.8566 - accuracy: 0.7067 - val_loss: 1.4209 - val_accuracy: 0.5801\n",
            "Epoch 20/20\n",
            "1250/1250 [==============================] - 5s 4ms/step - loss: 0.8648 - accuracy: 0.7052 - val_loss: 1.4818 - val_accuracy: 0.5782\n",
            "Model: \"sequential_10\"\n",
            "_________________________________________________________________\n",
            " Layer (type)                Output Shape              Param #   \n",
            "=================================================================\n",
            " conv1 (Conv2D)              (None, 30, 30, 64)        1792      \n",
            "                                                                 \n",
            " max_pooling2d_18 (MaxPooli  (None, 15, 15, 64)        0         \n",
            " ng2D)                                                           \n",
            "                                                                 \n",
            " conv2 (Conv2D)              (None, 13, 13, 64)        36928     \n",
            "                                                                 \n",
            " max_pooling2d_19 (MaxPooli  (None, 6, 6, 64)          0         \n",
            " ng2D)                                                           \n",
            "                                                                 \n",
            " flatten_10 (Flatten)        (None, 2304)              0         \n",
            "                                                                 \n",
            " dense_10 (Dense)            (None, 10)                23050     \n",
            "                                                                 \n",
            "=================================================================\n",
            "Total params: 61770 (241.29 KB)\n",
            "Trainable params: 61770 (241.29 KB)\n",
            "Non-trainable params: 0 (0.00 Byte)\n",
            "_________________________________________________________________\n",
            "None\n",
            "Training Time: 144.1635298728943\n",
            "Extra Metrics on Validation Set:\n",
            "\tAccuracy: 0.5804\n",
            "\tPrecision Weighted: 0.5850635616254225\n",
            "\tRecall Weighted: 0.5804\n",
            "\tF1-Score Weighted: 0.5805609035944289\n"
          ]
        }
      ],
      "source": [
        "model = Sequential([Conv2D(64, (3, 3), activation='relu', input_shape=(32, 32, 3), name='conv1'),\n",
        "                    MaxPooling2D((2, 2)),\n",
        "                    Conv2D(64, (3, 3), activation='relu', name='conv2'),\n",
        "                    MaxPooling2D((2, 2)),\n",
        "                    Flatten(),\n",
        "                    Dense(10, activation='softmax')])\n",
        "\n",
        "# Compile the model (you can use your preferred optimizer, loss, and metrics)\n",
        "model.compile(optimizer='adam', loss='categorical_crossentropy', metrics=['accuracy'])\n",
        "\n",
        "start_time = time.time()\n",
        "# Train the model\n",
        "history = model.fit(X_train, y_train, epochs=20, validation_data=(X_valid, y_valid),use_multiprocessing =True)\n",
        "end_time = time.time()\n",
        "\n",
        "print(model.summary())\n",
        "print('Training Time:', end_time - start_time)\n",
        "\n",
        "print('Extra Metrics on Validation Set:')\n",
        "predictions = model.predict(X_test,verbose=0)\n",
        "metrics = evaluate_classification_metrics(y_test,predictions,verbose=True)"
      ]
    },
    {
      "cell_type": "code",
      "execution_count": null,
      "metadata": {
        "colab": {
          "base_uri": "https://localhost:8080/"
        },
        "id": "nX7HJqFoYXNM",
        "outputId": "89ff2159-8d7a-410e-a196-17878ace8276"
      },
      "outputs": [
        {
          "name": "stdout",
          "output_type": "stream",
          "text": [
            "Epoch 1/10\n",
            "1250/1250 [==============================] - 7s 5ms/step - loss: 2.9186 - accuracy: 0.1923 - val_loss: 2.0929 - val_accuracy: 0.2171\n",
            "Epoch 2/10\n",
            "1250/1250 [==============================] - 7s 6ms/step - loss: 2.0198 - accuracy: 0.2573 - val_loss: 2.0091 - val_accuracy: 0.2494\n",
            "Epoch 3/10\n",
            "1250/1250 [==============================] - 6s 5ms/step - loss: 1.6716 - accuracy: 0.4045 - val_loss: 1.5755 - val_accuracy: 0.4490\n",
            "Epoch 4/10\n",
            "1250/1250 [==============================] - 7s 6ms/step - loss: 1.2958 - accuracy: 0.5541 - val_loss: 1.4908 - val_accuracy: 0.5011\n",
            "Epoch 5/10\n",
            "1250/1250 [==============================] - 6s 5ms/step - loss: 0.9940 - accuracy: 0.6545 - val_loss: 1.6804 - val_accuracy: 0.4784\n",
            "Epoch 6/10\n",
            "1250/1250 [==============================] - 8s 6ms/step - loss: 0.7491 - accuracy: 0.7447 - val_loss: 1.9430 - val_accuracy: 0.4748\n",
            "Epoch 7/10\n",
            "1250/1250 [==============================] - 6s 5ms/step - loss: 0.5624 - accuracy: 0.8086 - val_loss: 2.3376 - val_accuracy: 0.4978\n",
            "Epoch 8/10\n",
            "1250/1250 [==============================] - 6s 5ms/step - loss: 0.4078 - accuracy: 0.8623 - val_loss: 3.0197 - val_accuracy: 0.4897\n",
            "Epoch 9/10\n",
            "1250/1250 [==============================] - 6s 5ms/step - loss: 0.3601 - accuracy: 0.8814 - val_loss: 3.6820 - val_accuracy: 0.4754\n",
            "Epoch 10/10\n",
            "1250/1250 [==============================] - 7s 6ms/step - loss: 0.3005 - accuracy: 0.9039 - val_loss: 3.7713 - val_accuracy: 0.4777\n",
            "Model: \"sequential_11\"\n",
            "_________________________________________________________________\n",
            " Layer (type)                Output Shape              Param #   \n",
            "=================================================================\n",
            " conv1 (Conv2D)              (None, 30, 30, 64)        1792      \n",
            "                                                                 \n",
            " conv2 (Conv2D)              (None, 28, 28, 64)        36928     \n",
            "                                                                 \n",
            " flatten_11 (Flatten)        (None, 50176)             0         \n",
            "                                                                 \n",
            " dense_11 (Dense)            (None, 10)                501770    \n",
            "                                                                 \n",
            "=================================================================\n",
            "Total params: 540490 (2.06 MB)\n",
            "Trainable params: 540490 (2.06 MB)\n",
            "Non-trainable params: 0 (0.00 Byte)\n",
            "_________________________________________________________________\n",
            "None\n",
            "Training Time: 67.49436402320862\n",
            "Extra Metrics on Validation Set:\n",
            "\tAccuracy: 0.4838\n",
            "\tPrecision Weighted: 0.48311114332218985\n",
            "\tRecall Weighted: 0.4838\n",
            "\tF1-Score Weighted: 0.4820336412312149\n"
          ]
        }
      ],
      "source": [
        "model = Sequential([Conv2D(64, (3, 3), activation='relu', input_shape=(32, 32, 3), name='conv1'),\n",
        "                    Conv2D(64, (3, 3), activation='relu', name='conv2'),\n",
        "                    Flatten(),\n",
        "                    Dense(10, activation='softmax')])\n",
        "\n",
        "# Compile the model (you can use your preferred optimizer, loss, and metrics)\n",
        "model.compile(optimizer='adam', loss='categorical_crossentropy', metrics=['accuracy'])\n",
        "\n",
        "start_time = time.time()\n",
        "# Train the model\n",
        "history = model.fit(X_train, y_train, epochs=10, validation_data=(X_valid, y_valid),use_multiprocessing =True)\n",
        "end_time = time.time()\n",
        "\n",
        "print(model.summary())\n",
        "print('Training Time:', end_time - start_time)\n",
        "\n",
        "print('Extra Metrics on Validation Set:')\n",
        "predictions = model.predict(X_test,verbose=0)\n",
        "metrics = evaluate_classification_metrics(y_test,predictions,verbose=True)"
      ]
    },
    {
      "cell_type": "code",
      "execution_count": null,
      "metadata": {
        "colab": {
          "base_uri": "https://localhost:8080/"
        },
        "id": "MLpIbQ1CYlXn",
        "outputId": "872833d4-227c-42a7-c10b-c26af0dfb26e"
      },
      "outputs": [
        {
          "name": "stdout",
          "output_type": "stream",
          "text": [
            "Epoch 1/10\n",
            "1250/1250 [==============================] - 10s 7ms/step - loss: 2.6259 - accuracy: 0.0999 - val_loss: 2.3023 - val_accuracy: 0.0986\n",
            "Epoch 2/10\n",
            "1250/1250 [==============================] - 6s 4ms/step - loss: 2.3023 - accuracy: 0.1008 - val_loss: 2.3025 - val_accuracy: 0.1026\n",
            "Epoch 3/10\n",
            "1250/1250 [==============================] - 6s 5ms/step - loss: 2.3048 - accuracy: 0.1017 - val_loss: 2.3035 - val_accuracy: 0.0961\n",
            "Epoch 4/10\n",
            "1250/1250 [==============================] - 5s 4ms/step - loss: 2.3019 - accuracy: 0.0985 - val_loss: 2.3031 - val_accuracy: 0.0953\n",
            "Epoch 5/10\n",
            "1250/1250 [==============================] - 6s 5ms/step - loss: 2.3013 - accuracy: 0.1015 - val_loss: 2.3053 - val_accuracy: 0.0949\n",
            "Epoch 6/10\n",
            "1250/1250 [==============================] - 5s 4ms/step - loss: 2.3021 - accuracy: 0.1003 - val_loss: 2.3024 - val_accuracy: 0.0951\n",
            "Epoch 7/10\n",
            "1250/1250 [==============================] - 5s 4ms/step - loss: 2.3049 - accuracy: 0.1013 - val_loss: 2.3058 - val_accuracy: 0.1009\n",
            "Epoch 8/10\n",
            "1250/1250 [==============================] - 6s 5ms/step - loss: 2.3014 - accuracy: 0.0979 - val_loss: 2.3094 - val_accuracy: 0.1007\n",
            "Epoch 9/10\n",
            "1250/1250 [==============================] - 5s 4ms/step - loss: 2.3012 - accuracy: 0.1023 - val_loss: 2.3040 - val_accuracy: 0.0951\n",
            "Epoch 10/10\n",
            "1250/1250 [==============================] - 6s 5ms/step - loss: 2.3060 - accuracy: 0.1007 - val_loss: 2.3074 - val_accuracy: 0.0984\n",
            "Model: \"sequential_13\"\n",
            "_________________________________________________________________\n",
            " Layer (type)                Output Shape              Param #   \n",
            "=================================================================\n",
            " conv1 (Conv2D)              (None, 28, 28, 64)        4864      \n",
            "                                                                 \n",
            " max_pooling2d_22 (MaxPooli  (None, 14, 14, 64)        0         \n",
            " ng2D)                                                           \n",
            "                                                                 \n",
            " conv2 (Conv2D)              (None, 10, 10, 64)        102464    \n",
            "                                                                 \n",
            " max_pooling2d_23 (MaxPooli  (None, 5, 5, 64)          0         \n",
            " ng2D)                                                           \n",
            "                                                                 \n",
            " flatten_13 (Flatten)        (None, 1600)              0         \n",
            "                                                                 \n",
            " dense_13 (Dense)            (None, 10)                16010     \n",
            "                                                                 \n",
            "=================================================================\n",
            "Total params: 123338 (481.79 KB)\n",
            "Trainable params: 123338 (481.79 KB)\n",
            "Non-trainable params: 0 (0.00 Byte)\n",
            "_________________________________________________________________\n",
            "None\n",
            "Training Time: 61.42920207977295\n",
            "Extra Metrics on Validation Set:\n",
            "\tAccuracy: 0.1003\n",
            "\tPrecision Weighted: 0.2599969948913152\n",
            "\tRecall Weighted: 0.1003\n",
            "\tF1-Score Weighted: 0.019171147308938853\n"
          ]
        }
      ],
      "source": [
        "model = Sequential([Conv2D(64, (5, 5), activation='relu', input_shape=(32, 32, 3), name='conv1'),\n",
        "                    MaxPooling2D((2, 2)),\n",
        "                    Conv2D(64, (5, 5), activation='relu', name='conv2'),\n",
        "                    MaxPooling2D((2, 2)),\n",
        "                    Flatten(),\n",
        "                    Dense(10, activation='softmax')])\n",
        "\n",
        "# Compile the model (you can use your preferred optimizer, loss, and metrics)\n",
        "model.compile(optimizer='adam', loss='categorical_crossentropy', metrics=['accuracy'])\n",
        "\n",
        "start_time = time.time()\n",
        "# Train the model\n",
        "history = model.fit(X_train, y_train, epochs=10, validation_data=(X_valid, y_valid),use_multiprocessing =True)\n",
        "end_time = time.time()\n",
        "\n",
        "print(model.summary())\n",
        "print('Training Time:', end_time - start_time)\n",
        "\n",
        "print('Extra Metrics on Validation Set:')\n",
        "predictions = model.predict(X_test,verbose=0)\n",
        "metrics = evaluate_classification_metrics(y_test,predictions,verbose=True)"
      ]
    },
    {
      "cell_type": "markdown",
      "metadata": {
        "id": "o0sWzCqIgEiB"
      },
      "source": [
        "We observe that with simple architectures and no hyper-parameter tuning, the created Neural Networks can learn many of the complex patterns of the data. This comes as a result of the ability of the Convolutional Neural Networks that are able to extract spatial features. At the same time, CNNs are translation-invariant, meaning they can recognize patterns regardless of their position in the input.\n",
        "\n",
        "The model had almost 60% Accuracy on the validation set."
      ]
    },
    {
      "cell_type": "markdown",
      "metadata": {
        "id": "0l0ULoPBqxgJ"
      },
      "source": [
        "In the following cells, an extended Search of the Optimal Hyperparameters is been performed. Different number of layers, and different parameters in each layer are searched.\n",
        "\n",
        "*Note: Due to the fact that the documentation of the Keras Tuners did not support adding the number of epochs to the hyperparameter search space, the addition of Early Stopping was imperative. Early Stopping is used in order to stop the training of the model when the validation accuracy started to decrease for some concecutive epochs meaning that the model starts overfitting.*"
      ]
    },
    {
      "cell_type": "code",
      "execution_count": null,
      "metadata": {
        "id": "iJZ-myTihxzW"
      },
      "outputs": [],
      "source": [
        "# Function that will be used in Hyper-parameter tuning to find the best model\n",
        "def build_model(hp):\n",
        "    model = Sequential()\n",
        "\n",
        "    # Entry Convolutional Layer\n",
        "    model.add(Conv2D(hp.Int('filters', min_value=32, max_value=256, step=32),\n",
        "                     hp.Int('kernel_size', min_value=3, max_value=5),\n",
        "                     padding='same', input_shape=(32, 32, 3), activation='relu'))\n",
        "\n",
        "    # Convolutional Blocks\n",
        "    for _ in range(hp.Int('num_layers', min_value=1, max_value=5)):\n",
        "        model.add(Conv2D(hp.Int('filters', min_value=32, max_value=256, step=32),\n",
        "                         hp.Int('kernel_size', min_value=3, max_value=5),\n",
        "                         padding='same', activation='relu'))\n",
        "        model.add(MaxPooling2D(pool_size=(hp.Int('pool_size', min_value=2, max_value=3), hp.Int('pool_size', min_value=2, max_value=3))))\n",
        "        model.add(Dropout(hp.Float('dropout_rate', min_value=0.0, max_value=0.5)))\n",
        "\n",
        "    # Flatten before Dense Layers\n",
        "    model.add(Flatten())\n",
        "\n",
        "    # Dense Layers\n",
        "    model.add(Dense(hp.Int('dense_units', min_value=128, max_value=1024, step=128), activation='relu'))\n",
        "    model.add(Dropout(hp.Float('dropout_rate', min_value=0.0, max_value=0.5)))\n",
        "\n",
        "    # Output Layer\n",
        "    model.add(Dense(10, activation='softmax'))\n",
        "\n",
        "    # Compiling the Created Model\n",
        "    optimizer = Adam(learning_rate = hp.Float('learning_rate', min_value=1e-5, max_value=1e-2, sampling='log'))\n",
        "    model.compile(loss='categorical_crossentropy', optimizer = optimizer, metrics=['accuracy'])\n",
        "\n",
        "    return model"
      ]
    },
    {
      "cell_type": "code",
      "execution_count": null,
      "metadata": {
        "colab": {
          "base_uri": "https://localhost:8080/"
        },
        "id": "MHxocjTROxrI",
        "outputId": "fdba15f6-69d6-4641-e2f8-69883a7025cd"
      },
      "outputs": [
        {
          "output_type": "stream",
          "name": "stdout",
          "text": [
            "Trial 5 Complete [00h 01m 22s]\n",
            "val_accuracy: 0.10520000010728836\n",
            "\n",
            "Best val_accuracy So Far: 0.7702999711036682\n",
            "Total elapsed time: 00h 38m 56s\n",
            "Best Hyperparameters: {'filters': 256, 'kernel_size': 5, 'num_layers': 3, 'pool_size': 3, 'dropout_rate': 0.2507959277388306, 'dense_units': 256, 'learning_rate': 0.00036972395759183116}\n",
            "Model: \"sequential\"\n",
            "_________________________________________________________________\n",
            " Layer (type)                Output Shape              Param #   \n",
            "=================================================================\n",
            " conv2d (Conv2D)             (None, 32, 32, 256)       19456     \n",
            "                                                                 \n",
            " conv2d_1 (Conv2D)           (None, 32, 32, 256)       1638656   \n",
            "                                                                 \n",
            " max_pooling2d (MaxPooling2  (None, 10, 10, 256)       0         \n",
            " D)                                                              \n",
            "                                                                 \n",
            " dropout (Dropout)           (None, 10, 10, 256)       0         \n",
            "                                                                 \n",
            " conv2d_2 (Conv2D)           (None, 10, 10, 256)       1638656   \n",
            "                                                                 \n",
            " max_pooling2d_1 (MaxPoolin  (None, 3, 3, 256)         0         \n",
            " g2D)                                                            \n",
            "                                                                 \n"
          ]
        },
        {
          "output_type": "stream",
          "name": "stderr",
          "text": [
            "WARNING:tensorflow:Detecting that an object or model or tf.train.Checkpoint is being deleted with unrestored values. See the following logs for the specific values in question. To silence these warnings, use `status.expect_partial()`. See https://www.tensorflow.org/api_docs/python/tf/train/Checkpoint#restorefor details about the status object returned by the restore function.\n"
          ]
        },
        {
          "output_type": "stream",
          "name": "stdout",
          "text": [
            " dropout_1 (Dropout)         (None, 3, 3, 256)         0         \n"
          ]
        },
        {
          "output_type": "stream",
          "name": "stderr",
          "text": [
            "WARNING:tensorflow:Value in checkpoint could not be found in the restored object: (root).optimizer._variables.1\n"
          ]
        },
        {
          "output_type": "stream",
          "name": "stdout",
          "text": [
            "                                                                 \n"
          ]
        },
        {
          "output_type": "stream",
          "name": "stderr",
          "text": [
            "WARNING:tensorflow:Value in checkpoint could not be found in the restored object: (root).optimizer._variables.2\n"
          ]
        },
        {
          "output_type": "stream",
          "name": "stdout",
          "text": [
            " conv2d_3 (Conv2D)           (None, 3, 3, 256)         1638656   \n"
          ]
        },
        {
          "output_type": "stream",
          "name": "stderr",
          "text": [
            "WARNING:tensorflow:Value in checkpoint could not be found in the restored object: (root).optimizer._variables.3\n"
          ]
        },
        {
          "output_type": "stream",
          "name": "stdout",
          "text": [
            "                                                                 \n"
          ]
        },
        {
          "output_type": "stream",
          "name": "stderr",
          "text": [
            "WARNING:tensorflow:Value in checkpoint could not be found in the restored object: (root).optimizer._variables.4\n"
          ]
        },
        {
          "output_type": "stream",
          "name": "stdout",
          "text": [
            " max_pooling2d_2 (MaxPoolin  (None, 1, 1, 256)         0         \n"
          ]
        },
        {
          "output_type": "stream",
          "name": "stderr",
          "text": [
            "WARNING:tensorflow:Value in checkpoint could not be found in the restored object: (root).optimizer._variables.5\n"
          ]
        },
        {
          "output_type": "stream",
          "name": "stdout",
          "text": [
            " g2D)                                                            \n"
          ]
        },
        {
          "output_type": "stream",
          "name": "stderr",
          "text": [
            "WARNING:tensorflow:Value in checkpoint could not be found in the restored object: (root).optimizer._variables.6\n"
          ]
        },
        {
          "output_type": "stream",
          "name": "stdout",
          "text": [
            "                                                                 \n"
          ]
        },
        {
          "output_type": "stream",
          "name": "stderr",
          "text": [
            "WARNING:tensorflow:Value in checkpoint could not be found in the restored object: (root).optimizer._variables.7\n"
          ]
        },
        {
          "output_type": "stream",
          "name": "stdout",
          "text": [
            " dropout_2 (Dropout)         (None, 1, 1, 256)         0         \n"
          ]
        },
        {
          "output_type": "stream",
          "name": "stderr",
          "text": [
            "WARNING:tensorflow:Value in checkpoint could not be found in the restored object: (root).optimizer._variables.8\n"
          ]
        },
        {
          "output_type": "stream",
          "name": "stdout",
          "text": [
            "                                                                 \n"
          ]
        },
        {
          "output_type": "stream",
          "name": "stderr",
          "text": [
            "WARNING:tensorflow:Value in checkpoint could not be found in the restored object: (root).optimizer._variables.9\n"
          ]
        },
        {
          "output_type": "stream",
          "name": "stdout",
          "text": [
            " flatten (Flatten)           (None, 256)               0         \n"
          ]
        },
        {
          "output_type": "stream",
          "name": "stderr",
          "text": [
            "WARNING:tensorflow:Value in checkpoint could not be found in the restored object: (root).optimizer._variables.10\n"
          ]
        },
        {
          "output_type": "stream",
          "name": "stdout",
          "text": [
            "                                                                 \n"
          ]
        },
        {
          "output_type": "stream",
          "name": "stderr",
          "text": [
            "WARNING:tensorflow:Value in checkpoint could not be found in the restored object: (root).optimizer._variables.11\n"
          ]
        },
        {
          "output_type": "stream",
          "name": "stdout",
          "text": [
            " dense (Dense)               (None, 256)               65792     \n"
          ]
        },
        {
          "output_type": "stream",
          "name": "stderr",
          "text": [
            "WARNING:tensorflow:Value in checkpoint could not be found in the restored object: (root).optimizer._variables.12\n"
          ]
        },
        {
          "output_type": "stream",
          "name": "stdout",
          "text": [
            "                                                                 \n"
          ]
        },
        {
          "output_type": "stream",
          "name": "stderr",
          "text": [
            "WARNING:tensorflow:Value in checkpoint could not be found in the restored object: (root).optimizer._variables.13\n"
          ]
        },
        {
          "output_type": "stream",
          "name": "stdout",
          "text": [
            " dropout_3 (Dropout)         (None, 256)               0         \n"
          ]
        },
        {
          "output_type": "stream",
          "name": "stderr",
          "text": [
            "WARNING:tensorflow:Value in checkpoint could not be found in the restored object: (root).optimizer._variables.14\n"
          ]
        },
        {
          "output_type": "stream",
          "name": "stdout",
          "text": [
            "                                                                 \n"
          ]
        },
        {
          "output_type": "stream",
          "name": "stderr",
          "text": [
            "WARNING:tensorflow:Value in checkpoint could not be found in the restored object: (root).optimizer._variables.15\n"
          ]
        },
        {
          "output_type": "stream",
          "name": "stdout",
          "text": [
            " dense_1 (Dense)             (None, 10)                2570      \n"
          ]
        },
        {
          "output_type": "stream",
          "name": "stderr",
          "text": [
            "WARNING:tensorflow:Value in checkpoint could not be found in the restored object: (root).optimizer._variables.16\n"
          ]
        },
        {
          "output_type": "stream",
          "name": "stdout",
          "text": [
            "                                                                 \n"
          ]
        },
        {
          "output_type": "stream",
          "name": "stderr",
          "text": [
            "WARNING:tensorflow:Value in checkpoint could not be found in the restored object: (root).optimizer._variables.17\n"
          ]
        },
        {
          "output_type": "stream",
          "name": "stdout",
          "text": [
            "=================================================================\n"
          ]
        },
        {
          "output_type": "stream",
          "name": "stderr",
          "text": [
            "WARNING:tensorflow:Value in checkpoint could not be found in the restored object: (root).optimizer._variables.18\n"
          ]
        },
        {
          "output_type": "stream",
          "name": "stdout",
          "text": [
            "Total params: 5003786 (19.09 MB)\n"
          ]
        },
        {
          "output_type": "stream",
          "name": "stderr",
          "text": [
            "WARNING:tensorflow:Value in checkpoint could not be found in the restored object: (root).optimizer._variables.19\n"
          ]
        },
        {
          "output_type": "stream",
          "name": "stdout",
          "text": [
            "Trainable params: 5003786 (19.09 MB)\n"
          ]
        },
        {
          "output_type": "stream",
          "name": "stderr",
          "text": [
            "WARNING:tensorflow:Value in checkpoint could not be found in the restored object: (root).optimizer._variables.20\n"
          ]
        },
        {
          "output_type": "stream",
          "name": "stdout",
          "text": [
            "Non-trainable params: 0 (0.00 Byte)\n",
            "_________________________________________________________________\n",
            "None\n"
          ]
        }
      ],
      "source": [
        "# Instantiate the tuner\n",
        "tuner = RandomSearch(\n",
        "    build_model,\n",
        "    objective='val_accuracy',\n",
        "    max_trials=5,  # Number of hyperparameter combinations to try\n",
        "    directory='random_tuner_results',\n",
        "    project_name='cnn_tuning',\n",
        "    overwrite = True\n",
        ")\n",
        "\n",
        "# Perform the hyperparameter search\n",
        "tuner.search(X_train, y_train,epochs = 30,validation_data=(X_valid, y_valid),callbacks=[keras.callbacks.EarlyStopping('val_loss', patience=3)])\n",
        "# should also perform tuning on epochs\n",
        "\n",
        "# Check the best hyperparameters\n",
        "best_hp = tuner.get_best_hyperparameters(1)[0].values\n",
        "print(\"Best Hyperparameters:\", best_hp)\n",
        "\n",
        "# Build the model with the best hyperparameters\n",
        "best_model_random_search = tuner.get_best_models(num_models=1)[0]\n",
        "print(best_model_random_search.summary())"
      ]
    },
    {
      "cell_type": "code",
      "execution_count": null,
      "metadata": {
        "id": "RlKCDxrpa2SB"
      },
      "outputs": [],
      "source": [
        "best_model_random_search.save(\"best_random_search_model.keras\")"
      ]
    },
    {
      "cell_type": "code",
      "execution_count": null,
      "metadata": {
        "colab": {
          "base_uri": "https://localhost:8080/"
        },
        "id": "HtAtPpGxa_hZ",
        "outputId": "46663598-7f74-4624-dbd0-86c2872501a4"
      },
      "outputs": [
        {
          "name": "stderr",
          "output_type": "stream",
          "text": [
            "WARNING:absl:Skipping variable loading for optimizer 'Adam', because it has 29 variables whereas the saved optimizer has 1 variables. \n"
          ]
        }
      ],
      "source": [
        "best_random_search_model = keras.models.load_model(\"best_random_search_model.keras\")"
      ]
    },
    {
      "cell_type": "code",
      "execution_count": null,
      "metadata": {
        "id": "kR-z4xy0dDCO"
      },
      "outputs": [],
      "source": [
        "# Instantiate the tuner\n",
        "tuner = BayesianOptimization(\n",
        "    build_model,\n",
        "    objective='val_accuracy',\n",
        "    max_trials=20,  # Number of hyperparameter combinations to try\n",
        "    num_initial_points=5,  # Number of randomly sampled hyperparameter combinations\n",
        "    directory='bayesian_tuner_results',\n",
        "    project_name='cnn_tuning',\n",
        "    overwrite = True\n",
        ")\n",
        "\n",
        "# Perform the hyperparameter search\n",
        "tuner.search(X_train, y_train,epochs = 30,validation_data=(X_valid, y_valid),callbacks=[keras.callbacks.EarlyStopping('val_loss', patience=3)],use_multiprocessing =True)\n",
        "\n",
        "# Check the Best Hyperparameters\n",
        "best_hp = tuner.get_best_hyperparameters(1)[0].values\n",
        "print(\"Best Hyperparameters:\", best_hp)\n",
        "\n",
        "# Build the model with the best hyperparameters\n",
        "best_model_bayesian_optimization = tuner.get_best_models(num_models=1)[0]\n",
        "print(best_model_bayesian_optimization.summary())"
      ]
    },
    {
      "cell_type": "code",
      "execution_count": null,
      "metadata": {
        "colab": {
          "base_uri": "https://localhost:8080/"
        },
        "id": "HqILGS0IFo7V",
        "outputId": "95064686-15ec-4441-e03e-f4285f672a38"
      },
      "outputs": [
        {
          "name": "stdout",
          "output_type": "stream",
          "text": [
            "Trial 2 Complete [00h 17m 02s]\n",
            "val_accuracy: 0.10239999741315842\n",
            "\n",
            "Best val_accuracy So Far: 0.5004000067710876\n",
            "Total elapsed time: 00h 39m 27s\n",
            "\n",
            "Search: Running Trial #3\n",
            "\n",
            "Value             |Best Value So Far |Hyperparameter\n",
            "32                |32                |filters\n",
            "3                 |3                 |kernel_size\n",
            "1                 |1                 |num_layers\n",
            "2                 |2                 |pool_size\n",
            "0                 |0                 |dropout_rate\n",
            "128               |128               |dense_units\n",
            "0.0001122         |1e-05             |learning_rate\n",
            "\n",
            "Epoch 1/10\n",
            " 277/1250 [=====>........................] - ETA: 1:31 - loss: 6.8847 - accuracy: 0.2336"
          ]
        }
      ],
      "source": [
        "# Instantiate the tuner\n",
        "tuner = GridSearch(\n",
        "    build_model,\n",
        "    max_trials=50,\n",
        "    objective='val_accuracy',\n",
        "    directory='grid_tuner_results',\n",
        "    project_name='cnn_tuning',\n",
        "    overwrite=True\n",
        ")\n",
        "\n",
        "# Perform the hyperparameter search\n",
        "# Here I wanted to make sure that the number of epochs is sufficient for my model to learn\n",
        "# but also will not lead to overfitting so I used Early Stopping\n",
        "tuner.search(X_train, y_train,epochs = 10,validation_data=(X_valid, y_valid),callbacks=[keras.callbacks.EarlyStopping('val_loss', patience=3)],use_multiprocessing =True)\n",
        "\n",
        "# Check the best hyperparameters\n",
        "best_hp = tuner.get_best_hyperparameters(1)[0].values\n",
        "print(\"Best Hyperparameters:\", best_hp)\n",
        "\n",
        "# Build the model with the best hyperparameters\n",
        "best_model_grid_search = tuner.get_best_models(num_models=1)[0]\n",
        "print(best_model_grid_search.summary())"
      ]
    },
    {
      "cell_type": "code",
      "execution_count": null,
      "metadata": {
        "id": "AJx90MyBvMS4"
      },
      "outputs": [],
      "source": [
        "# Get the optimal model based on the ouput of the 3 different explorations\n",
        "# Get the final best model\n",
        "[val_loss,val_accuracy_random] = best_model_random_search.evaluate(X_valid, y_valid)\n",
        "[val_loss,val_accuracy_bayesian] = best_model_bayesian_optimization.evaluate(X_valid, y_valid)\n",
        "[val_loss,val_accuracy_grid] = best_model_grid_search.evaluate(X_valid, y_valid)\n",
        "\n",
        "# Compare validation accuracies\n",
        "best_accuracy = max(val_accuracy_random, val_accuracy_bayesian, val_accuracy_grid)\n",
        "\n",
        "# Select the model with the best accuracy\n",
        "best_model = None\n",
        "if best_accuracy == val_accuracy_random:\n",
        "    best_model = best_model_random_search\n",
        "elif best_accuracy == val_accuracy_bayesian:\n",
        "    best_model = best_model_bayesian_optimization\n",
        "elif best_accuracy == val_accuracy_grid:\n",
        "    best_model = best_model_grid_search\n",
        "\n",
        "print(\"Best Validation Accuracy:\", best_accuracy)\n",
        "print(\"Best Model Summary:\")\n",
        "print(best_model.summary())\n",
        "\n",
        "visualkeras.layered_view(best_model,legend=True)"
      ]
    },
    {
      "cell_type": "markdown",
      "metadata": {
        "id": "QPuXFLuBuhUV"
      },
      "source": [
        "Since the hyper-parameter tuning and the model fine tuning has been ended, the model performance on new unseen test data is implemented"
      ]
    },
    {
      "cell_type": "code",
      "execution_count": null,
      "metadata": {
        "id": "St35ctnyuqp6"
      },
      "outputs": [],
      "source": [
        "predictions = best_model.predict(X_test,verbose=0)\n",
        "\n",
        "# Transform the labels to Label Encoding\n",
        "y_pred = np.argmax(predictions,axis=1)\n",
        "y_test = np.argmax(y_test,axis=1)\n",
        "evaluate_classification_metrics(y_test, y_pred,verbose=True)"
      ]
    },
    {
      "cell_type": "code",
      "execution_count": null,
      "metadata": {
        "id": "Ea1gyiiKjPV7"
      },
      "outputs": [],
      "source": [
        "# Visualize the outputs in the validation set, checking some examples of right and wrong classification\n",
        "\n",
        "fig, axes = plt.subplots(5, 5, figsize=(12,12))\n",
        "axes = axes.ravel()\n",
        "\n",
        "for i in np.arange(25):\n",
        "    axes[i].imshow(X_test[i])\n",
        "    axes[i].set_title('True: %s \\nPredict: %s' % (labels[y_test[i]], labels[y_pred[i]]))\n",
        "    axes[i].axis('off')\n",
        "    plt.subplots_adjust(wspace=1)"
      ]
    }
  ],
  "metadata": {
    "accelerator": "GPU",
    "colab": {
      "provenance": []
    },
    "kernelspec": {
      "display_name": "Python 3",
      "name": "python3"
    },
    "language_info": {
      "name": "python"
    }
  },
  "nbformat": 4,
  "nbformat_minor": 0
}